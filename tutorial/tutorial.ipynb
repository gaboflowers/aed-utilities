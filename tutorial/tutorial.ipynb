{
  "nbformat": 4,
  "nbformat_minor": 0,
  "metadata": {
    "colab": {
      "name": "tutorial.ipynb",
      "provenance": []
    },
    "kernelspec": {
      "name": "python3",
      "display_name": "Python 3"
    }
  },
  "cells": [
    {
      "cell_type": "markdown",
      "metadata": {
        "id": "QgFZXSoojusf"
      },
      "source": [
        "Primero instalamos el paquete de visualización."
      ]
    },
    {
      "cell_type": "code",
      "metadata": {
        "id": "OxsnrwM0iVsu"
      },
      "source": [
        "!pip install aed-utilities==0.4.1"
      ],
      "execution_count": null,
      "outputs": []
    },
    {
      "cell_type": "markdown",
      "metadata": {
        "id": "GQs6accNkDx3"
      },
      "source": [
        "# 1. Dibujando Arreglos Numpy"
      ]
    },
    {
      "cell_type": "code",
      "metadata": {
        "id": "zfO7D-XSkmF3"
      },
      "source": [
        "#Importamos los paquetes necesarios para esta prueba\n",
        "import numpy as np\n",
        "import aed_utilities as aed"
      ],
      "execution_count": 1,
      "outputs": []
    },
    {
      "cell_type": "code",
      "metadata": {
        "colab": {
          "base_uri": "https://localhost:8080/"
        },
        "id": "HHjdNbZZj02B",
        "outputId": "d36bb8b8-5d4f-4aca-8683-16a02b159af3"
      },
      "source": [
        "#Creamos un arreglo 1D\n",
        "array = np.arange(0,12,2)\n",
        "print(array)"
      ],
      "execution_count": 2,
      "outputs": [
        {
          "output_type": "stream",
          "text": [
            "[ 0  2  4  6  8 10]\n"
          ],
          "name": "stdout"
        }
      ]
    },
    {
      "cell_type": "code",
      "metadata": {
        "colab": {
          "base_uri": "https://localhost:8080/",
          "height": 87
        },
        "id": "_EHBGJADkZFz",
        "outputId": "ead7b402-9916-4b5f-95f9-97b7b19c202b"
      },
      "source": [
        "# Creamos una instancia de la clase \"NumpyArrayDrawer\"\n",
        "dr = aed.NumpyArrayDrawer()\n",
        "\n",
        "#Dibujamos el arreglo \n",
        "dr.drawNumpy1DArray(array)"
      ],
      "execution_count": 3,
      "outputs": [
        {
          "output_type": "display_data",
          "data": {
            "text/plain": [
              "<IPython.core.display.SVG object>"
            ],
            "image/svg+xml": "<svg height=\"50pt\" viewBox=\"0.00 0.00 228.00 50.00\" width=\"228pt\" xmlns=\"http://www.w3.org/2000/svg\" xmlns:xlink=\"http://www.w3.org/1999/xlink\">\n<g class=\"graph\" id=\"graph0\" transform=\"scale(1 1) rotate(0) translate(4 46)\">\n<title>Array</title>\n<polygon fill=\"#ffffff\" points=\"-4,4 -4,-46 224,-46 224,4 -4,4\" stroke=\"transparent\"/>\n<!-- a0 -->\n<g class=\"node\" id=\"node1\">\n<title>a0</title>\n<polygon fill=\"none\" points=\"8,-4 8,-38 42,-38 42,-4 8,-4\" stroke=\"#000000\"/>\n<text fill=\"#000000\" font-family=\"Times,serif\" font-size=\"15.00\" text-anchor=\"start\" x=\"21\" y=\"-17.5\">0</text>\n<polygon fill=\"none\" points=\"42,-4 42,-38 76,-38 76,-4 42,-4\" stroke=\"#000000\"/>\n<text fill=\"#000000\" font-family=\"Times,serif\" font-size=\"15.00\" text-anchor=\"start\" x=\"55\" y=\"-17.5\">2</text>\n<polygon fill=\"none\" points=\"76,-4 76,-38 110,-38 110,-4 76,-4\" stroke=\"#000000\"/>\n<text fill=\"#000000\" font-family=\"Times,serif\" font-size=\"15.00\" text-anchor=\"start\" x=\"89\" y=\"-17.5\">4</text>\n<polygon fill=\"none\" points=\"110,-4 110,-38 144,-38 144,-4 110,-4\" stroke=\"#000000\"/>\n<text fill=\"#000000\" font-family=\"Times,serif\" font-size=\"15.00\" text-anchor=\"start\" x=\"123\" y=\"-17.5\">6</text>\n<polygon fill=\"none\" points=\"144,-4 144,-38 178,-38 178,-4 144,-4\" stroke=\"#000000\"/>\n<text fill=\"#000000\" font-family=\"Times,serif\" font-size=\"15.00\" text-anchor=\"start\" x=\"157\" y=\"-17.5\">8</text>\n<polygon fill=\"none\" points=\"178,-4 178,-38 212,-38 212,-4 178,-4\" stroke=\"#000000\"/>\n<text fill=\"#000000\" font-family=\"Times,serif\" font-size=\"15.00\" text-anchor=\"start\" x=\"187\" y=\"-17.5\">10</text>\n</g>\n</g>\n</svg>"
          },
          "metadata": {
            "tags": []
          }
        }
      ]
    },
    {
      "cell_type": "code",
      "metadata": {
        "colab": {
          "base_uri": "https://localhost:8080/",
          "height": 132
        },
        "id": "7EAQMgwnk47S",
        "outputId": "eb760267-de94-49e2-d474-b1031dff7bd7"
      },
      "source": [
        "# Si deseamos que aparezcan los índices en cada posición, llamamos a la función con el parámetro\n",
        "# showIndex en True\n",
        "\n",
        "dr.drawNumpy1DArray(array, showIndex=True)"
      ],
      "execution_count": 4,
      "outputs": [
        {
          "output_type": "display_data",
          "data": {
            "text/plain": [
              "<IPython.core.display.SVG object>"
            ],
            "image/svg+xml": "<svg height=\"84pt\" viewBox=\"0.00 0.00 228.00 84.00\" width=\"228pt\" xmlns=\"http://www.w3.org/2000/svg\" xmlns:xlink=\"http://www.w3.org/1999/xlink\">\n<g class=\"graph\" id=\"graph0\" transform=\"scale(1 1) rotate(0) translate(4 80)\">\n<title>Array</title>\n<polygon fill=\"#ffffff\" points=\"-4,4 -4,-80 224,-80 224,4 -4,4\" stroke=\"transparent\"/>\n<!-- a0 -->\n<g class=\"node\" id=\"node1\">\n<title>a0</title>\n<polygon fill=\"none\" points=\"8,-38 8,-72 42,-72 42,-38 8,-38\" stroke=\"#000000\"/>\n<text fill=\"#000000\" font-family=\"Times,serif\" font-size=\"15.00\" text-anchor=\"start\" x=\"21\" y=\"-51.5\">0</text>\n<polygon fill=\"none\" points=\"42,-38 42,-72 76,-72 76,-38 42,-38\" stroke=\"#000000\"/>\n<text fill=\"#000000\" font-family=\"Times,serif\" font-size=\"15.00\" text-anchor=\"start\" x=\"55\" y=\"-51.5\">2</text>\n<polygon fill=\"none\" points=\"76,-38 76,-72 110,-72 110,-38 76,-38\" stroke=\"#000000\"/>\n<text fill=\"#000000\" font-family=\"Times,serif\" font-size=\"15.00\" text-anchor=\"start\" x=\"89\" y=\"-51.5\">4</text>\n<polygon fill=\"none\" points=\"110,-38 110,-72 144,-72 144,-38 110,-38\" stroke=\"#000000\"/>\n<text fill=\"#000000\" font-family=\"Times,serif\" font-size=\"15.00\" text-anchor=\"start\" x=\"123\" y=\"-51.5\">6</text>\n<polygon fill=\"none\" points=\"144,-38 144,-72 178,-72 178,-38 144,-38\" stroke=\"#000000\"/>\n<text fill=\"#000000\" font-family=\"Times,serif\" font-size=\"15.00\" text-anchor=\"start\" x=\"157\" y=\"-51.5\">8</text>\n<polygon fill=\"none\" points=\"178,-38 178,-72 212,-72 212,-38 178,-38\" stroke=\"#000000\"/>\n<text fill=\"#000000\" font-family=\"Times,serif\" font-size=\"15.00\" text-anchor=\"start\" x=\"187\" y=\"-51.5\">10</text>\n<text fill=\"#000000\" font-family=\"Times,serif\" font-size=\"15.00\" text-anchor=\"start\" x=\"21\" y=\"-17.5\">0</text>\n<text fill=\"#000000\" font-family=\"Times,serif\" font-size=\"15.00\" text-anchor=\"start\" x=\"55\" y=\"-17.5\">1</text>\n<text fill=\"#000000\" font-family=\"Times,serif\" font-size=\"15.00\" text-anchor=\"start\" x=\"89\" y=\"-17.5\">2</text>\n<text fill=\"#000000\" font-family=\"Times,serif\" font-size=\"15.00\" text-anchor=\"start\" x=\"123\" y=\"-17.5\">3</text>\n<text fill=\"#000000\" font-family=\"Times,serif\" font-size=\"15.00\" text-anchor=\"start\" x=\"157\" y=\"-17.5\">4</text>\n<text fill=\"#000000\" font-family=\"Times,serif\" font-size=\"15.00\" text-anchor=\"start\" x=\"191\" y=\"-17.5\">5</text>\n</g>\n</g>\n</svg>"
          },
          "metadata": {
            "tags": []
          }
        }
      ]
    },
    {
      "cell_type": "code",
      "metadata": {
        "colab": {
          "base_uri": "https://localhost:8080/",
          "height": 314
        },
        "id": "oM5Fn5lnlG4y",
        "outputId": "62ccc7a3-d37d-4629-b0fe-c803f1eaa738"
      },
      "source": [
        "# Por default el arreglo 1D aparece en forma de fila. Si deseamos que aparezca en forma de columna, usamos el parámetro \n",
        "# layout = \"column\"\n",
        "\n",
        "dr.drawNumpy1DArray(array, layout=\"column\")\n"
      ],
      "execution_count": 5,
      "outputs": [
        {
          "output_type": "display_data",
          "data": {
            "text/plain": [
              "<IPython.core.display.SVG object>"
            ],
            "image/svg+xml": "<svg height=\"220pt\" viewBox=\"0.00 0.00 62.00 220.00\" width=\"62pt\" xmlns=\"http://www.w3.org/2000/svg\" xmlns:xlink=\"http://www.w3.org/1999/xlink\">\n<g class=\"graph\" id=\"graph0\" transform=\"scale(1 1) rotate(0) translate(4 216)\">\n<title>Array</title>\n<polygon fill=\"#ffffff\" points=\"-4,4 -4,-216 58,-216 58,4 -4,4\" stroke=\"transparent\"/>\n<!-- a0 -->\n<g class=\"node\" id=\"node1\">\n<title>a0</title>\n<polygon fill=\"none\" points=\"10,-174 10,-208 44,-208 44,-174 10,-174\" stroke=\"#000000\"/>\n<text fill=\"#000000\" font-family=\"Times,serif\" font-size=\"15.00\" text-anchor=\"start\" x=\"23\" y=\"-187.5\">0</text>\n<polygon fill=\"none\" points=\"10,-140 10,-174 44,-174 44,-140 10,-140\" stroke=\"#000000\"/>\n<text fill=\"#000000\" font-family=\"Times,serif\" font-size=\"15.00\" text-anchor=\"start\" x=\"23\" y=\"-153.5\">2</text>\n<polygon fill=\"none\" points=\"10,-106 10,-140 44,-140 44,-106 10,-106\" stroke=\"#000000\"/>\n<text fill=\"#000000\" font-family=\"Times,serif\" font-size=\"15.00\" text-anchor=\"start\" x=\"23\" y=\"-119.5\">4</text>\n<polygon fill=\"none\" points=\"10,-72 10,-106 44,-106 44,-72 10,-72\" stroke=\"#000000\"/>\n<text fill=\"#000000\" font-family=\"Times,serif\" font-size=\"15.00\" text-anchor=\"start\" x=\"23\" y=\"-85.5\">6</text>\n<polygon fill=\"none\" points=\"10,-38 10,-72 44,-72 44,-38 10,-38\" stroke=\"#000000\"/>\n<text fill=\"#000000\" font-family=\"Times,serif\" font-size=\"15.00\" text-anchor=\"start\" x=\"23\" y=\"-51.5\">8</text>\n<polygon fill=\"none\" points=\"10,-4 10,-38 44,-38 44,-4 10,-4\" stroke=\"#000000\"/>\n<text fill=\"#000000\" font-family=\"Times,serif\" font-size=\"15.00\" text-anchor=\"start\" x=\"19\" y=\"-17.5\">10</text>\n</g>\n</g>\n</svg>"
          },
          "metadata": {
            "tags": []
          }
        }
      ]
    },
    {
      "cell_type": "code",
      "metadata": {
        "colab": {
          "base_uri": "https://localhost:8080/",
          "height": 314
        },
        "id": "iD5pJQQvlW4q",
        "outputId": "a9f43354-ca0c-438c-dbac-e7d4cff2998e"
      },
      "source": [
        "# Y tambien puede aparecer en columna y con índices\n",
        "\n",
        "dr.drawNumpy1DArray(array, layout=\"column\", showIndex = True)"
      ],
      "execution_count": 6,
      "outputs": [
        {
          "output_type": "display_data",
          "data": {
            "text/plain": [
              "<IPython.core.display.SVG object>"
            ],
            "image/svg+xml": "<svg height=\"220pt\" viewBox=\"0.00 0.00 92.00 220.00\" width=\"92pt\" xmlns=\"http://www.w3.org/2000/svg\" xmlns:xlink=\"http://www.w3.org/1999/xlink\">\n<g class=\"graph\" id=\"graph0\" transform=\"scale(1 1) rotate(0) translate(4 216)\">\n<title>Array</title>\n<polygon fill=\"#ffffff\" points=\"-4,4 -4,-216 88,-216 88,4 -4,4\" stroke=\"transparent\"/>\n<!-- a0 -->\n<g class=\"node\" id=\"node1\">\n<title>a0</title>\n<text fill=\"#000000\" font-family=\"Times,serif\" font-size=\"15.00\" text-anchor=\"start\" x=\"21\" y=\"-187.5\">0</text>\n<polygon fill=\"none\" points=\"42,-174 42,-208 76,-208 76,-174 42,-174\" stroke=\"#000000\"/>\n<text fill=\"#000000\" font-family=\"Times,serif\" font-size=\"15.00\" text-anchor=\"start\" x=\"55\" y=\"-187.5\">0</text>\n<text fill=\"#000000\" font-family=\"Times,serif\" font-size=\"15.00\" text-anchor=\"start\" x=\"21\" y=\"-153.5\">1</text>\n<polygon fill=\"none\" points=\"42,-140 42,-174 76,-174 76,-140 42,-140\" stroke=\"#000000\"/>\n<text fill=\"#000000\" font-family=\"Times,serif\" font-size=\"15.00\" text-anchor=\"start\" x=\"55\" y=\"-153.5\">2</text>\n<text fill=\"#000000\" font-family=\"Times,serif\" font-size=\"15.00\" text-anchor=\"start\" x=\"21\" y=\"-119.5\">2</text>\n<polygon fill=\"none\" points=\"42,-106 42,-140 76,-140 76,-106 42,-106\" stroke=\"#000000\"/>\n<text fill=\"#000000\" font-family=\"Times,serif\" font-size=\"15.00\" text-anchor=\"start\" x=\"55\" y=\"-119.5\">4</text>\n<text fill=\"#000000\" font-family=\"Times,serif\" font-size=\"15.00\" text-anchor=\"start\" x=\"21\" y=\"-85.5\">3</text>\n<polygon fill=\"none\" points=\"42,-72 42,-106 76,-106 76,-72 42,-72\" stroke=\"#000000\"/>\n<text fill=\"#000000\" font-family=\"Times,serif\" font-size=\"15.00\" text-anchor=\"start\" x=\"55\" y=\"-85.5\">6</text>\n<text fill=\"#000000\" font-family=\"Times,serif\" font-size=\"15.00\" text-anchor=\"start\" x=\"21\" y=\"-51.5\">4</text>\n<polygon fill=\"none\" points=\"42,-38 42,-72 76,-72 76,-38 42,-38\" stroke=\"#000000\"/>\n<text fill=\"#000000\" font-family=\"Times,serif\" font-size=\"15.00\" text-anchor=\"start\" x=\"55\" y=\"-51.5\">8</text>\n<text fill=\"#000000\" font-family=\"Times,serif\" font-size=\"15.00\" text-anchor=\"start\" x=\"21\" y=\"-17.5\">5</text>\n<polygon fill=\"none\" points=\"42,-4 42,-38 76,-38 76,-4 42,-4\" stroke=\"#000000\"/>\n<text fill=\"#000000\" font-family=\"Times,serif\" font-size=\"15.00\" text-anchor=\"start\" x=\"51\" y=\"-17.5\">10</text>\n</g>\n</g>\n</svg>"
          },
          "metadata": {
            "tags": []
          }
        }
      ]
    },
    {
      "cell_type": "code",
      "metadata": {
        "colab": {
          "base_uri": "https://localhost:8080/"
        },
        "id": "Qt7GF4vvlfaS",
        "outputId": "8a6baee4-8008-4a60-d620-068d4ba62672"
      },
      "source": [
        "# Ahora creamos un array 2D\n",
        "\n",
        "a = np.array([[1,2,3, 12],[4,5,6, 20]])\n",
        "print(a)"
      ],
      "execution_count": 7,
      "outputs": [
        {
          "output_type": "stream",
          "text": [
            "[[ 1  2  3 12]\n",
            " [ 4  5  6 20]]\n"
          ],
          "name": "stdout"
        }
      ]
    },
    {
      "cell_type": "code",
      "metadata": {
        "colab": {
          "base_uri": "https://localhost:8080/",
          "height": 132
        },
        "id": "TU7_V8b2lwwC",
        "outputId": "e2ce89ea-56da-47d2-e19c-639868729f84"
      },
      "source": [
        "# Ahora llamamos a la función drawNumpy2DArray\n",
        "dr.drawNumpy2DArray(a)"
      ],
      "execution_count": 8,
      "outputs": [
        {
          "output_type": "display_data",
          "data": {
            "text/plain": [
              "<IPython.core.display.SVG object>"
            ],
            "image/svg+xml": "<svg height=\"84pt\" viewBox=\"0.00 0.00 160.00 84.00\" width=\"160pt\" xmlns=\"http://www.w3.org/2000/svg\" xmlns:xlink=\"http://www.w3.org/1999/xlink\">\n<g class=\"graph\" id=\"graph0\" transform=\"scale(1 1) rotate(0) translate(4 80)\">\n<title>Array</title>\n<polygon fill=\"#ffffff\" points=\"-4,4 -4,-80 156,-80 156,4 -4,4\" stroke=\"transparent\"/>\n<!-- a0 -->\n<g class=\"node\" id=\"node1\">\n<title>a0</title>\n<polygon fill=\"none\" points=\"8,-38 8,-72 42,-72 42,-38 8,-38\" stroke=\"#000000\"/>\n<text fill=\"#000000\" font-family=\"Times,serif\" font-size=\"15.00\" text-anchor=\"start\" x=\"21\" y=\"-51.5\">1</text>\n<polygon fill=\"none\" points=\"42,-38 42,-72 76,-72 76,-38 42,-38\" stroke=\"#000000\"/>\n<text fill=\"#000000\" font-family=\"Times,serif\" font-size=\"15.00\" text-anchor=\"start\" x=\"55\" y=\"-51.5\">2</text>\n<polygon fill=\"none\" points=\"76,-38 76,-72 110,-72 110,-38 76,-38\" stroke=\"#000000\"/>\n<text fill=\"#000000\" font-family=\"Times,serif\" font-size=\"15.00\" text-anchor=\"start\" x=\"89\" y=\"-51.5\">3</text>\n<polygon fill=\"none\" points=\"110,-38 110,-72 144,-72 144,-38 110,-38\" stroke=\"#000000\"/>\n<text fill=\"#000000\" font-family=\"Times,serif\" font-size=\"15.00\" text-anchor=\"start\" x=\"119\" y=\"-51.5\">12</text>\n<polygon fill=\"none\" points=\"8,-4 8,-38 42,-38 42,-4 8,-4\" stroke=\"#000000\"/>\n<text fill=\"#000000\" font-family=\"Times,serif\" font-size=\"15.00\" text-anchor=\"start\" x=\"21\" y=\"-17.5\">4</text>\n<polygon fill=\"none\" points=\"42,-4 42,-38 76,-38 76,-4 42,-4\" stroke=\"#000000\"/>\n<text fill=\"#000000\" font-family=\"Times,serif\" font-size=\"15.00\" text-anchor=\"start\" x=\"55\" y=\"-17.5\">5</text>\n<polygon fill=\"none\" points=\"76,-4 76,-38 110,-38 110,-4 76,-4\" stroke=\"#000000\"/>\n<text fill=\"#000000\" font-family=\"Times,serif\" font-size=\"15.00\" text-anchor=\"start\" x=\"89\" y=\"-17.5\">6</text>\n<polygon fill=\"none\" points=\"110,-4 110,-38 144,-38 144,-4 110,-4\" stroke=\"#000000\"/>\n<text fill=\"#000000\" font-family=\"Times,serif\" font-size=\"15.00\" text-anchor=\"start\" x=\"119\" y=\"-17.5\">20</text>\n</g>\n</g>\n</svg>"
          },
          "metadata": {
            "tags": []
          }
        }
      ]
    },
    {
      "cell_type": "code",
      "metadata": {
        "colab": {
          "base_uri": "https://localhost:8080/",
          "height": 178
        },
        "id": "Iq2VEa9al6Qy",
        "outputId": "1300f58f-c9e1-4388-f9c9-d3e661b1d0af"
      },
      "source": [
        "# Podemos visualizar los índices del arreglo también\n",
        "dr.drawNumpy2DArray(a, showIndex=True)"
      ],
      "execution_count": 9,
      "outputs": [
        {
          "output_type": "display_data",
          "data": {
            "text/plain": [
              "<IPython.core.display.SVG object>"
            ],
            "image/svg+xml": "<svg height=\"118pt\" viewBox=\"0.00 0.00 194.00 118.00\" width=\"194pt\" xmlns=\"http://www.w3.org/2000/svg\" xmlns:xlink=\"http://www.w3.org/1999/xlink\">\n<g class=\"graph\" id=\"graph0\" transform=\"scale(1 1) rotate(0) translate(4 114)\">\n<title>Array</title>\n<polygon fill=\"#ffffff\" points=\"-4,4 -4,-114 190,-114 190,4 -4,4\" stroke=\"transparent\"/>\n<!-- a0 -->\n<g class=\"node\" id=\"node1\">\n<title>a0</title>\n<text fill=\"#000000\" font-family=\"Times,serif\" font-size=\"15.00\" text-anchor=\"start\" x=\"55\" y=\"-85.5\">0</text>\n<text fill=\"#000000\" font-family=\"Times,serif\" font-size=\"15.00\" text-anchor=\"start\" x=\"89\" y=\"-85.5\">1</text>\n<text fill=\"#000000\" font-family=\"Times,serif\" font-size=\"15.00\" text-anchor=\"start\" x=\"123\" y=\"-85.5\">2</text>\n<text fill=\"#000000\" font-family=\"Times,serif\" font-size=\"15.00\" text-anchor=\"start\" x=\"157\" y=\"-85.5\">3</text>\n<text fill=\"#000000\" font-family=\"Times,serif\" font-size=\"15.00\" text-anchor=\"start\" x=\"21\" y=\"-51.5\">0</text>\n<polygon fill=\"none\" points=\"42,-38 42,-72 76,-72 76,-38 42,-38\" stroke=\"#000000\"/>\n<text fill=\"#000000\" font-family=\"Times,serif\" font-size=\"15.00\" text-anchor=\"start\" x=\"55\" y=\"-51.5\">1</text>\n<polygon fill=\"none\" points=\"76,-38 76,-72 110,-72 110,-38 76,-38\" stroke=\"#000000\"/>\n<text fill=\"#000000\" font-family=\"Times,serif\" font-size=\"15.00\" text-anchor=\"start\" x=\"89\" y=\"-51.5\">2</text>\n<polygon fill=\"none\" points=\"110,-38 110,-72 144,-72 144,-38 110,-38\" stroke=\"#000000\"/>\n<text fill=\"#000000\" font-family=\"Times,serif\" font-size=\"15.00\" text-anchor=\"start\" x=\"123\" y=\"-51.5\">3</text>\n<polygon fill=\"none\" points=\"144,-38 144,-72 178,-72 178,-38 144,-38\" stroke=\"#000000\"/>\n<text fill=\"#000000\" font-family=\"Times,serif\" font-size=\"15.00\" text-anchor=\"start\" x=\"153\" y=\"-51.5\">12</text>\n<text fill=\"#000000\" font-family=\"Times,serif\" font-size=\"15.00\" text-anchor=\"start\" x=\"21\" y=\"-17.5\">1</text>\n<polygon fill=\"none\" points=\"42,-4 42,-38 76,-38 76,-4 42,-4\" stroke=\"#000000\"/>\n<text fill=\"#000000\" font-family=\"Times,serif\" font-size=\"15.00\" text-anchor=\"start\" x=\"55\" y=\"-17.5\">4</text>\n<polygon fill=\"none\" points=\"76,-4 76,-38 110,-38 110,-4 76,-4\" stroke=\"#000000\"/>\n<text fill=\"#000000\" font-family=\"Times,serif\" font-size=\"15.00\" text-anchor=\"start\" x=\"89\" y=\"-17.5\">5</text>\n<polygon fill=\"none\" points=\"110,-4 110,-38 144,-38 144,-4 110,-4\" stroke=\"#000000\"/>\n<text fill=\"#000000\" font-family=\"Times,serif\" font-size=\"15.00\" text-anchor=\"start\" x=\"123\" y=\"-17.5\">6</text>\n<polygon fill=\"none\" points=\"144,-4 144,-38 178,-38 178,-4 144,-4\" stroke=\"#000000\"/>\n<text fill=\"#000000\" font-family=\"Times,serif\" font-size=\"15.00\" text-anchor=\"start\" x=\"153\" y=\"-17.5\">20</text>\n</g>\n</g>\n</svg>"
          },
          "metadata": {
            "tags": []
          }
        }
      ]
    },
    {
      "cell_type": "markdown",
      "metadata": {
        "id": "gzoQtP0zoAdr"
      },
      "source": [
        "# 2. Dibujando listas enlazadas\n",
        "\n",
        "## 2.1 Listas enlazadas simples\n",
        "\n",
        "Cuando creamos listas enlazadas, la información de un nodo se almacena en los campos de un objeto. Por ejemplo, podemos definir un Nodo con la siguiente clase:\n"
      ]
    },
    {
      "cell_type": "code",
      "metadata": {
        "id": "aNaRcC8wn8Oi"
      },
      "source": [
        "class Nodo:\n",
        "  def __init__(self, info, sgte=None):\n",
        "    self.info=info\n",
        "    self.sgte=sgte"
      ],
      "execution_count": 10,
      "outputs": []
    },
    {
      "cell_type": "markdown",
      "metadata": {
        "id": "cmgfrxh0o3qf"
      },
      "source": [
        "Un objeto de esta clase contiene dos campos: info (para almacenar la información) y sgte (para apuntar al siguiente nodo en la lista). A continuación definimos una clase para la lista enlazada:"
      ]
    },
    {
      "cell_type": "code",
      "metadata": {
        "id": "uTkhxuONo2hE"
      },
      "source": [
        "class Lista:\n",
        "  def __init__(self):\n",
        "    self.primero=None\n",
        "        \n",
        "  def insertar_al_inicio(self,info):\n",
        "    self.primero=Nodo(info,self.primero)\n",
        "    \n",
        "  def insertar_despues_de(self,p,info): # inserta después de nodo p\n",
        "    p.sgte=Nodo(info,p.sgte)\n",
        "    \n",
        "  def eliminar_al_inicio(self):\n",
        "    assert self.primero is not None\n",
        "    self.primero=self.primero.sgte\n",
        "    \n",
        "  def eliminar_sgte_de(self,p): # elimina el nodo siguiente de p\n",
        "    assert p.sgte is not None\n",
        "    p.sgte=p.sgte.sgte\n",
        "    \n",
        "  def k_esimo(self,k): # retorna k-esimo nodo, o None si fuera de rango\n",
        "    p=self.primero\n",
        "    j=1\n",
        "    while p is not None:\n",
        "      if j==k:\n",
        "        return p\n",
        "      p=p.sgte\n",
        "      j+=1\n",
        "    return None\n",
        "    \n",
        "  def imprimir(self):\n",
        "    p=self.primero\n",
        "    while p is not None:\n",
        "      print(p.info, end=\" \")\n",
        "      p=p.sgte\n",
        "    print()"
      ],
      "execution_count": 11,
      "outputs": []
    },
    {
      "cell_type": "markdown",
      "metadata": {
        "id": "wraPNui_piC0"
      },
      "source": [
        "Luego creamos una lista y le insertamos algunos datos:"
      ]
    },
    {
      "cell_type": "code",
      "metadata": {
        "colab": {
          "base_uri": "https://localhost:8080/"
        },
        "id": "Wjg5Blllpeq4",
        "outputId": "33021d42-c92c-4693-9a76-dbe55e1f3a40"
      },
      "source": [
        "L=Lista()\n",
        "L.insertar_al_inicio(44)\n",
        "L.insertar_al_inicio(13)\n",
        "L.insertar_al_inicio(65)\n",
        "L.insertar_al_inicio(42)\n",
        "L.imprimir()"
      ],
      "execution_count": 12,
      "outputs": [
        {
          "output_type": "stream",
          "text": [
            "42 65 13 44 \n"
          ],
          "name": "stdout"
        }
      ]
    },
    {
      "cell_type": "markdown",
      "metadata": {
        "id": "lm7rPEunpnVb"
      },
      "source": [
        "Para visualizar una lista enlazada, creamos una instancia de la clase LinkedListDrawer y llamamos al método draw_linked_list con nuestra lista como argumento."
      ]
    },
    {
      "cell_type": "code",
      "metadata": {
        "colab": {
          "base_uri": "https://localhost:8080/",
          "height": 87
        },
        "id": "APKHwviLplIt",
        "outputId": "8689ca1e-1675-4600-bdf8-5f56f4dcd154"
      },
      "source": [
        "lld = aed.LinkedListDrawer(fieldHeader=\"primero\", fieldData=\"info\", fieldLink=\"sgte\", strHeader=\"cabecera\")\n",
        "lld.draw_linked_list(L)"
      ],
      "execution_count": 13,
      "outputs": [
        {
          "output_type": "display_data",
          "data": {
            "text/plain": [
              "<IPython.core.display.SVG object>"
            ],
            "image/svg+xml": "<svg height=\"50pt\" viewBox=\"0.00 0.00 455.39 49.60\" width=\"455pt\" xmlns=\"http://www.w3.org/2000/svg\" xmlns:xlink=\"http://www.w3.org/1999/xlink\">\n<g class=\"graph\" id=\"graph0\" transform=\"scale(1 1) rotate(0) translate(4 45.5963)\">\n<title>Lista</title>\n<polygon fill=\"#ffffff\" points=\"-4,4 -4,-45.5963 451.3852,-45.5963 451.3852,4 -4,4\" stroke=\"transparent\"/>\n<!-- cabecera -->\n<g class=\"node\" id=\"node1\">\n<title>cabecera</title>\n<text fill=\"#000000\" font-family=\"Times,serif\" font-size=\"14.00\" text-anchor=\"middle\" x=\"32.5\" y=\"-17.0982\">cabecera</text>\n</g>\n<!-- 42 -->\n<g class=\"node\" id=\"node3\">\n<title>42</title>\n<ellipse cx=\"121.7982\" cy=\"-20.7982\" fill=\"none\" rx=\"20.5982\" ry=\"20.5982\" stroke=\"#000000\"/>\n<text fill=\"#000000\" font-family=\"Times,serif\" font-size=\"14.00\" text-anchor=\"middle\" x=\"121.7982\" y=\"-17.0982\">42</text>\n</g>\n<!-- cabecera&#45;&gt;42 -->\n<g class=\"edge\" id=\"edge1\">\n<title>cabecera-&gt;42</title>\n<path d=\"M65.2443,-20.7982C73.6441,-20.7982 82.6503,-20.7982 90.9508,-20.7982\" fill=\"none\" stroke=\"#000000\"/>\n<polygon fill=\"#000000\" points=\"90.9885,-24.2983 100.9885,-20.7982 90.9884,-17.2983 90.9885,-24.2983\" stroke=\"#000000\"/>\n</g>\n<g class=\"node\" id=\"node2\">\n<title/>\n<polygon fill=\"none\" points=\"447.3852,-38.7982 411.3852,-38.7982 411.3852,-2.7982 447.3852,-2.7982 447.3852,-38.7982\" stroke=\"#000000\"/>\n</g>\n<!-- 65 -->\n<g class=\"node\" id=\"node4\">\n<title>65</title>\n<ellipse cx=\"199.3945\" cy=\"-20.7982\" fill=\"none\" rx=\"20.5982\" ry=\"20.5982\" stroke=\"#000000\"/>\n<text fill=\"#000000\" font-family=\"Times,serif\" font-size=\"14.00\" text-anchor=\"middle\" x=\"199.3945\" y=\"-17.0982\">65</text>\n</g>\n<!-- 42&#45;&gt;65 -->\n<g class=\"edge\" id=\"edge2\">\n<title>42-&gt;65</title>\n<path d=\"M143.0017,-20.7982C150.8495,-20.7982 159.9158,-20.7982 168.4525,-20.7982\" fill=\"none\" stroke=\"#000000\"/>\n<polygon fill=\"#000000\" points=\"168.4853,-24.2983 178.4852,-20.7982 168.4852,-17.2983 168.4853,-24.2983\" stroke=\"#000000\"/>\n</g>\n<!-- 13 -->\n<g class=\"node\" id=\"node5\">\n<title>13</title>\n<ellipse cx=\"276.9908\" cy=\"-20.7982\" fill=\"none\" rx=\"20.5982\" ry=\"20.5982\" stroke=\"#000000\"/>\n<text fill=\"#000000\" font-family=\"Times,serif\" font-size=\"14.00\" text-anchor=\"middle\" x=\"276.9908\" y=\"-17.0982\">13</text>\n</g>\n<!-- 65&#45;&gt;13 -->\n<g class=\"edge\" id=\"edge3\">\n<title>65-&gt;13</title>\n<path d=\"M220.598,-20.7982C228.4458,-20.7982 237.5121,-20.7982 246.0488,-20.7982\" fill=\"none\" stroke=\"#000000\"/>\n<polygon fill=\"#000000\" points=\"246.0816,-24.2983 256.0815,-20.7982 246.0815,-17.2983 246.0816,-24.2983\" stroke=\"#000000\"/>\n</g>\n<!-- 44 -->\n<g class=\"node\" id=\"node6\">\n<title>44</title>\n<ellipse cx=\"354.5871\" cy=\"-20.7982\" fill=\"none\" rx=\"20.5982\" ry=\"20.5982\" stroke=\"#000000\"/>\n<text fill=\"#000000\" font-family=\"Times,serif\" font-size=\"14.00\" text-anchor=\"middle\" x=\"354.5871\" y=\"-17.0982\">44</text>\n</g>\n<!-- 13&#45;&gt;44 -->\n<g class=\"edge\" id=\"edge4\">\n<title>13-&gt;44</title>\n<path d=\"M298.1943,-20.7982C306.0421,-20.7982 315.1084,-20.7982 323.6451,-20.7982\" fill=\"none\" stroke=\"#000000\"/>\n<polygon fill=\"#000000\" points=\"323.6779,-24.2983 333.6779,-20.7982 323.6778,-17.2983 323.6779,-24.2983\" stroke=\"#000000\"/>\n</g>\n<!-- 44&#45;&gt; -->\n<g class=\"edge\" id=\"edge5\">\n<title>44-&gt;</title>\n<path d=\"M375.4225,-20.7982C383.325,-20.7982 392.4638,-20.7982 400.9487,-20.7982\" fill=\"none\" stroke=\"#000000\"/>\n<polygon fill=\"#000000\" points=\"401.2041,-24.2983 411.2041,-20.7982 401.2041,-17.2983 401.2041,-24.2983\" stroke=\"#000000\"/>\n</g>\n</g>\n</svg>"
          },
          "metadata": {
            "tags": []
          }
        }
      ]
    },
    {
      "cell_type": "markdown",
      "metadata": {
        "id": "g0wqxsPhp-Z1"
      },
      "source": [
        "El constructor de la clase LinkedListDrawer recibe varios parámetros:\n",
        "\n",
        "\n",
        "*   fieldHeader: es el nombre con el que se identifica la referencia al primer nodo de la lista. Como nuestra clase Lista tiene un campo llamado \"primero\" para ese fin, ese nombre va como valor de este paŕametro.\n",
        "*   fieldData: es el nombre del campo que almacena la información en la clase Nodo.\n",
        "*   fieldLink: es el nombre del campo que almacena el puntero al siguiente elemento en la clase Nodo.\n",
        "*   strHeader: es una cadena que aparecerá en el dibujo, indicando el inicio de la lista.\n",
        "\n",
        "Los campos \"fieldHeader\", \"fieldData\", \"fieldLink\" son obligatorios, pues es la única forma con la cual nuestra clase graficadora puede conocer la estructura de nuestra lista. Lo bueno de indicar estos parámetros es que podemos cambiar la estructura de los nodos o la lista y bastará con informar los nombres a la clase de graficación para que pueda dibujar nuestra estructura de datos.\n",
        "\n"
      ]
    },
    {
      "cell_type": "markdown",
      "metadata": {
        "id": "TWjEgkVKrkAm"
      },
      "source": [
        "## 2.2 Listas doblemente enlazadas\n",
        "\n",
        "Veamos un ejemplo con listas de doble enlace"
      ]
    },
    {
      "cell_type": "code",
      "metadata": {
        "id": "75r-oyhjp8ad"
      },
      "source": [
        "class Nodo:\n",
        "  def __init__(self, prev, info, sgte):\n",
        "    self.prev=prev\n",
        "    self.info=info\n",
        "    self.sgte=sgte"
      ],
      "execution_count": 15,
      "outputs": []
    },
    {
      "cell_type": "code",
      "metadata": {
        "id": "fGjf8WiErrA5"
      },
      "source": [
        "class Lista_doble_enlace:\n",
        "  def __init__(self):\n",
        "    self.cabecera=Nodo(None,0,None)\n",
        "    self.cabecera.prev=self.cabecera\n",
        "    self.cabecera.sgte=self.cabecera\n",
        "    \n",
        "  def insertar_despues_de(self,p,info): # inserta después de nodo p\n",
        "    r=p.sgte\n",
        "    p.sgte=r.prev=Nodo(p,info,r)\n",
        " \n",
        "  def eliminar(self,p): # elimina el nodo p\n",
        "    assert p is not self.cabecera\n",
        "    (p.prev.sgte,p.sgte.prev)=(p.sgte,p.prev)\n",
        "    \n",
        "  def k_esimo(self,k): # retorna k-esimo nodo, o None si fuera de rango\n",
        "    p=self.cabecera\n",
        "    j=0\n",
        "    while True:\n",
        "      if j==k:\n",
        "        return p\n",
        "      p=p.sgte\n",
        "      if p is self.cabecera:\n",
        "        return None\n",
        "      j+=1\n",
        "    \n",
        "  def ascendente(self):\n",
        "    p=self.cabecera.sgte\n",
        "    while p is not self.cabecera:\n",
        "      yield p.info\n",
        "      p=p.sgte\n",
        "\n",
        "  def descendente(self):\n",
        "    p=self.cabecera.prev\n",
        "    while p is not self.cabecera:\n",
        "      yield p.info\n",
        "      p=p.prev"
      ],
      "execution_count": 18,
      "outputs": []
    },
    {
      "cell_type": "code",
      "metadata": {
        "colab": {
          "base_uri": "https://localhost:8080/"
        },
        "id": "m3m2ne19sI5-",
        "outputId": "225e8ff7-ae3d-478b-8eb5-727ae2344a20"
      },
      "source": [
        "L=Lista_doble_enlace()\n",
        "L.insertar_despues_de(L.k_esimo(0),42)\n",
        "L.insertar_despues_de(L.k_esimo(1),65)\n",
        "L.insertar_despues_de(L.k_esimo(2),13)\n",
        "L.insertar_despues_de(L.k_esimo(3),44)\n",
        "print([x for x in L.ascendente()])\n",
        "print([x for x in L.descendente()])"
      ],
      "execution_count": 19,
      "outputs": [
        {
          "output_type": "stream",
          "text": [
            "[42, 65, 13, 44]\n",
            "[44, 13, 65, 42]\n"
          ],
          "name": "stdout"
        }
      ]
    },
    {
      "cell_type": "markdown",
      "metadata": {
        "id": "D__DlfYtsp2N"
      },
      "source": [
        "Para visualizar una lista doblemente enlazada, creamos un objeto de la clase LinkedListDrawer. A diferencia de las listas simples, ahora necesitamos informar sobre el nombre del enlace hacia atrás. Eso lo hacemos con el parámetro \"fieldReverseLink\". Además, llamamos a la función \"draw_double_linked_list\"."
      ]
    },
    {
      "cell_type": "code",
      "metadata": {
        "colab": {
          "base_uri": "https://localhost:8080/",
          "height": 87
        },
        "id": "cseNUyK_sMB9",
        "outputId": "871864d5-e403-4027-af40-ecd8e2cc6301"
      },
      "source": [
        "lld = aed.LinkedListDrawer(fieldHeader=\"cabecera\", fieldData=\"info\", fieldLink=\"sgte\", fieldReverseLink=\"prev\")\n",
        "lld.draw_double_linked_list(L)"
      ],
      "execution_count": 21,
      "outputs": [
        {
          "output_type": "display_data",
          "data": {
            "text/plain": [
              "<IPython.core.display.SVG object>"
            ],
            "image/svg+xml": "<svg height=\"50pt\" viewBox=\"0.00 0.00 282.39 49.60\" width=\"282pt\" xmlns=\"http://www.w3.org/2000/svg\" xmlns:xlink=\"http://www.w3.org/1999/xlink\">\n<g class=\"graph\" id=\"graph0\" transform=\"scale(1 1) rotate(0) translate(4 45.5963)\">\n<title>Lista</title>\n<polygon fill=\"#ffffff\" points=\"-4,4 -4,-45.5963 278.3852,-45.5963 278.3852,4 -4,4\" stroke=\"transparent\"/>\n<!-- 42 -->\n<g class=\"node\" id=\"node1\">\n<title>42</title>\n<ellipse cx=\"20.7982\" cy=\"-20.7982\" fill=\"none\" rx=\"20.5982\" ry=\"20.5982\" stroke=\"#000000\"/>\n<text fill=\"#000000\" font-family=\"Times,serif\" font-size=\"14.00\" text-anchor=\"middle\" x=\"20.7982\" y=\"-17.0982\">42</text>\n</g>\n<!-- 65 -->\n<g class=\"node\" id=\"node2\">\n<title>65</title>\n<ellipse cx=\"98.3945\" cy=\"-20.7982\" fill=\"none\" rx=\"20.5982\" ry=\"20.5982\" stroke=\"#000000\"/>\n<text fill=\"#000000\" font-family=\"Times,serif\" font-size=\"14.00\" text-anchor=\"middle\" x=\"98.3945\" y=\"-17.0982\">65</text>\n</g>\n<!-- 42&#45;&gt;65 -->\n<g class=\"edge\" id=\"edge1\">\n<title>42-&gt;65</title>\n<path d=\"M40.7811,-14.8099C49.1334,-14.0763 59.0207,-13.8725 68.2253,-14.1988\" fill=\"none\" stroke=\"#000000\"/>\n<polygon fill=\"#000000\" points=\"68.0194,-17.6926 78.2095,-14.7923 68.4349,-10.705 68.0194,-17.6926\" stroke=\"#000000\"/>\n</g>\n<!-- 65&#45;&gt;42 -->\n<g class=\"edge\" id=\"edge6\">\n<title>65-&gt;42</title>\n<path d=\"M78.2095,-26.804C69.9227,-27.5213 60.1513,-27.7201 51.0419,-27.4002\" fill=\"none\" stroke=\"#000000\"/>\n<polygon fill=\"#000000\" points=\"50.9723,-23.8898 40.7811,-26.7864 50.5543,-30.8773 50.9723,-23.8898\" stroke=\"#000000\"/>\n</g>\n<!-- 13 -->\n<g class=\"node\" id=\"node3\">\n<title>13</title>\n<ellipse cx=\"175.9908\" cy=\"-20.7982\" fill=\"none\" rx=\"20.5982\" ry=\"20.5982\" stroke=\"#000000\"/>\n<text fill=\"#000000\" font-family=\"Times,serif\" font-size=\"14.00\" text-anchor=\"middle\" x=\"175.9908\" y=\"-17.0982\">13</text>\n</g>\n<!-- 65&#45;&gt;13 -->\n<g class=\"edge\" id=\"edge2\">\n<title>65-&gt;13</title>\n<path d=\"M118.3774,-14.8099C126.7297,-14.0763 136.617,-13.8725 145.8217,-14.1988\" fill=\"none\" stroke=\"#000000\"/>\n<polygon fill=\"#000000\" points=\"145.6157,-17.6926 155.8058,-14.7923 146.0312,-10.705 145.6157,-17.6926\" stroke=\"#000000\"/>\n</g>\n<!-- 13&#45;&gt;65 -->\n<g class=\"edge\" id=\"edge5\">\n<title>13-&gt;65</title>\n<path d=\"M155.8058,-26.804C147.519,-27.5213 137.7476,-27.7201 128.6383,-27.4002\" fill=\"none\" stroke=\"#000000\"/>\n<polygon fill=\"#000000\" points=\"128.5686,-23.8898 118.3774,-26.7864 128.1506,-30.8773 128.5686,-23.8898\" stroke=\"#000000\"/>\n</g>\n<!-- 44 -->\n<g class=\"node\" id=\"node4\">\n<title>44</title>\n<ellipse cx=\"253.5871\" cy=\"-20.7982\" fill=\"none\" rx=\"20.5982\" ry=\"20.5982\" stroke=\"#000000\"/>\n<text fill=\"#000000\" font-family=\"Times,serif\" font-size=\"14.00\" text-anchor=\"middle\" x=\"253.5871\" y=\"-17.0982\">44</text>\n</g>\n<!-- 13&#45;&gt;44 -->\n<g class=\"edge\" id=\"edge3\">\n<title>13-&gt;44</title>\n<path d=\"M195.9738,-14.8099C204.326,-14.0763 214.2133,-13.8725 223.418,-14.1988\" fill=\"none\" stroke=\"#000000\"/>\n<polygon fill=\"#000000\" points=\"223.212,-17.6926 233.4021,-14.7923 223.6275,-10.705 223.212,-17.6926\" stroke=\"#000000\"/>\n</g>\n<!-- 44&#45;&gt;13 -->\n<g class=\"edge\" id=\"edge4\">\n<title>44-&gt;13</title>\n<path d=\"M233.4021,-26.804C225.1154,-27.5213 215.3439,-27.7201 206.2346,-27.4002\" fill=\"none\" stroke=\"#000000\"/>\n<polygon fill=\"#000000\" points=\"206.1649,-23.8898 195.9738,-26.7864 205.7469,-30.8773 206.1649,-23.8898\" stroke=\"#000000\"/>\n</g>\n</g>\n</svg>"
          },
          "metadata": {
            "tags": []
          }
        }
      ]
    },
    {
      "cell_type": "markdown",
      "metadata": {
        "id": "jNo_UgebteP9"
      },
      "source": [
        "# 3. Árboles binarios\n",
        "La lógica para dibujar árboles binarios es la misma que para listas. Es necesario informar sobre los nombres de los campos del nodo y del árbol para poder dibujarlos. Primero definamos nuestros Nodo y Arbol"
      ]
    },
    {
      "cell_type": "code",
      "metadata": {
        "id": "EeBpkHqIs8WK"
      },
      "source": [
        "class Nodo:\n",
        "  def __init__(self, izq, info, der):\n",
        "    self.izq=izq\n",
        "    self.info=info\n",
        "    self.der=der\n",
        "\n",
        "def pre(p):\n",
        "  if p is not None:\n",
        "    print(p.info,end=\" \")\n",
        "    pre(p.izq)\n",
        "    pre(p.der)\n",
        "\n",
        "def ino(p):\n",
        "  if p is not None:\n",
        "    ino(p.izq)\n",
        "    print(p.info,end=\" \")\n",
        "    ino(p.der)\n",
        "\n",
        "def post(p):\n",
        "  if p is not None:\n",
        "    post(p.izq)\n",
        "    post(p.der)\n",
        "    print(p.info,end=\" \")\n",
        "        \n",
        "class Arbol:\n",
        "  def __init__(self,raiz=None):\n",
        "    self.raiz=raiz\n",
        "        \n",
        "  def preorden(self):\n",
        "    print(\"Preorden:\", end=\" \")\n",
        "    pre(self.raiz)\n",
        "    print()\n",
        "        \n",
        "  def inorden(self):\n",
        "    print(\"Inorden:\", end=\" \")\n",
        "    ino(self.raiz)\n",
        "    print()\n",
        "        \n",
        "  def postorden(self):\n",
        "    print(\"Postorden:\", end=\" \")\n",
        "    post(self.raiz)\n",
        "    print()"
      ],
      "execution_count": 23,
      "outputs": []
    },
    {
      "cell_type": "markdown",
      "metadata": {
        "id": "xlDd2UTfuwfX"
      },
      "source": [
        "Creamos algunos árboles"
      ]
    },
    {
      "cell_type": "code",
      "metadata": {
        "id": "PRGhgSr2uva9"
      },
      "source": [
        "AX=Arbol(\n",
        "    Nodo(\n",
        "        Nodo(\n",
        "            Nodo(None,15,None),\n",
        "            20,\n",
        "            Nodo(\n",
        "                Nodo(None,30,None),\n",
        "                35,\n",
        "                None\n",
        "            )\n",
        "        ),\n",
        "        42,\n",
        "        Nodo(\n",
        "            Nodo(\n",
        "                Nodo(\n",
        "                    Nodo(Nodo(None,62, None),65,None),\n",
        "                    72,\n",
        "                    Nodo(None,81,None)\n",
        "                ),\n",
        "                90,\n",
        "                None\n",
        "            ),\n",
        "            95,\n",
        "            None\n",
        "        )\n",
        "       )\n",
        ")\n",
        "\n",
        "AX1 = Arbol(Nodo(Nodo(Nodo(None,7,None),10,Nodo(None, 12, None)),18, Nodo(Nodo(None, 20,None),24,Nodo(None, 30, None))))\n",
        "AX2 = Arbol(Nodo(None, 10, Nodo(None, 12, Nodo(None, 14, Nodo(None, 20, None)))))\n",
        "AX3 = Arbol(Nodo(Nodo(Nodo(None,5,None),7,Nodo(None, 9, None)),10,None))"
      ],
      "execution_count": 24,
      "outputs": []
    },
    {
      "cell_type": "markdown",
      "metadata": {
        "id": "JYRZkK1euQwd"
      },
      "source": [
        "Para dibujar un árbol usamos la clase BinaryTreeDrawer. En el constructor de la clase, informamos sobre los nombres de los campos para datos y punteros. Luego llamamos a la función \"draw_tree\", a la cual le enviamos el árbol y el nombre del puntero raiz."
      ]
    },
    {
      "cell_type": "code",
      "metadata": {
        "colab": {
          "base_uri": "https://localhost:8080/",
          "height": 375
        },
        "id": "eqIdv7Eat1St",
        "outputId": "52e849ed-4aa9-4ec8-ef7d-bbc014e04908"
      },
      "source": [
        "btd = aed.BinaryTreeDrawer(fieldData=\"info\", fieldLeft=\"izq\", fieldRight=\"der\")\n",
        "btd.draw_tree(AX, \"raiz\")"
      ],
      "execution_count": 25,
      "outputs": [
        {
          "output_type": "display_data",
          "data": {
            "text/plain": [
              "<IPython.core.display.SVG object>"
            ],
            "image/svg+xml": "<svg height=\"266pt\" viewBox=\"0.00 0.00 436.00 265.60\" width=\"436pt\" xmlns=\"http://www.w3.org/2000/svg\" xmlns:xlink=\"http://www.w3.org/1999/xlink\">\n<g class=\"graph\" id=\"graph0\" transform=\"scale(1 1) rotate(0) translate(4 261.5963)\">\n<title>Arbol</title>\n<polygon fill=\"#ffffff\" points=\"-4,4 -4,-261.5963 431.9963,-261.5963 431.9963,4 -4,4\" stroke=\"transparent\"/>\n<!-- node0 -->\n<g class=\"node\" id=\"node1\">\n<title>node0</title>\n<ellipse cx=\"20.7982\" cy=\"-150.3982\" fill=\"none\" rx=\"20.5982\" ry=\"20.5982\" stroke=\"#000000\"/>\n<text fill=\"#000000\" font-family=\"Times,serif\" font-size=\"14.00\" text-anchor=\"middle\" x=\"20.7982\" y=\"-146.6982\">15</text>\n</g>\n<!-- node3 -->\n<g class=\"node\" id=\"node2\">\n<title>node3</title>\n<ellipse cx=\"54.3982\" cy=\"-193.5982\" fill=\"none\" rx=\"20.5982\" ry=\"20.5982\" stroke=\"#000000\"/>\n<text fill=\"#000000\" font-family=\"Times,serif\" font-size=\"14.00\" text-anchor=\"middle\" x=\"54.3982\" y=\"-189.8982\">20</text>\n</g>\n<!-- node3&#45;&#45;node0 -->\n<g class=\"edge\" id=\"edge2\">\n<title>node3--node0</title>\n<path d=\"M41.5036,-177.0195C38.9127,-173.6883 36.1906,-170.1884 33.6027,-166.8612\" fill=\"none\" stroke=\"#000000\"/>\n</g>\n<!-- node2 -->\n<g class=\"node\" id=\"node4\">\n<title>node2</title>\n<ellipse cx=\"121.5981\" cy=\"-150.3982\" fill=\"none\" rx=\"20.5982\" ry=\"20.5982\" stroke=\"#000000\"/>\n<text fill=\"#000000\" font-family=\"Times,serif\" font-size=\"14.00\" text-anchor=\"middle\" x=\"121.5981\" y=\"-146.6982\">35</text>\n</g>\n<!-- node3&#45;&#45;node2 -->\n<g class=\"edge\" id=\"edge3\">\n<title>node3--node2</title>\n<path d=\"M72.0542,-182.2479C81.8537,-175.9481 94.0088,-168.1342 103.8267,-161.8226\" fill=\"none\" stroke=\"#000000\"/>\n</g>\n<!-- node1 -->\n<g class=\"node\" id=\"node3\">\n<title>node1</title>\n<ellipse cx=\"87.9982\" cy=\"-107.1982\" fill=\"none\" rx=\"20.5982\" ry=\"20.5982\" stroke=\"#000000\"/>\n<text fill=\"#000000\" font-family=\"Times,serif\" font-size=\"14.00\" text-anchor=\"middle\" x=\"87.9982\" y=\"-103.4982\">30</text>\n</g>\n<!-- node2&#45;&#45;node1 -->\n<g class=\"edge\" id=\"edge4\">\n<title>node2--node1</title>\n<path d=\"M108.7036,-133.8195C106.1127,-130.4883 103.3906,-126.9884 100.8027,-123.6612\" fill=\"none\" stroke=\"#000000\"/>\n</g>\n<!-- node10 -->\n<g class=\"node\" id=\"node5\">\n<title>node10</title>\n<ellipse cx=\"171.9981\" cy=\"-236.7982\" fill=\"none\" rx=\"20.5982\" ry=\"20.5982\" stroke=\"#000000\"/>\n<text fill=\"#000000\" font-family=\"Times,serif\" font-size=\"14.00\" text-anchor=\"middle\" x=\"171.9981\" y=\"-233.0982\">42</text>\n</g>\n<!-- node10&#45;&#45;node3 -->\n<g class=\"edge\" id=\"edge1\">\n<title>node10--node3</title>\n<path d=\"M152.3146,-229.5674C130.6063,-221.593 95.8799,-208.8363 74.146,-200.8525\" fill=\"none\" stroke=\"#000000\"/>\n</g>\n<!-- node9 -->\n<g class=\"node\" id=\"node11\">\n<title>node9</title>\n<ellipse cx=\"407.1981\" cy=\"-193.5982\" fill=\"none\" rx=\"20.5982\" ry=\"20.5982\" stroke=\"#000000\"/>\n<text fill=\"#000000\" font-family=\"Times,serif\" font-size=\"14.00\" text-anchor=\"middle\" x=\"407.1981\" y=\"-189.8982\">95</text>\n</g>\n<!-- node10&#45;&#45;node9 -->\n<g class=\"edge\" id=\"edge5\">\n<title>node10--node9</title>\n<path d=\"M192.4592,-233.04C236.9409,-224.8699 342.0263,-205.5685 386.617,-197.3784\" fill=\"none\" stroke=\"#000000\"/>\n</g>\n<!-- node4 -->\n<g class=\"node\" id=\"node6\">\n<title>node4</title>\n<ellipse cx=\"205.5981\" cy=\"-20.7982\" fill=\"none\" rx=\"20.5982\" ry=\"20.5982\" stroke=\"#000000\"/>\n<text fill=\"#000000\" font-family=\"Times,serif\" font-size=\"14.00\" text-anchor=\"middle\" x=\"205.5981\" y=\"-17.0982\">62</text>\n</g>\n<!-- node5 -->\n<g class=\"node\" id=\"node7\">\n<title>node5</title>\n<ellipse cx=\"239.1981\" cy=\"-63.9982\" fill=\"none\" rx=\"20.5982\" ry=\"20.5982\" stroke=\"#000000\"/>\n<text fill=\"#000000\" font-family=\"Times,serif\" font-size=\"14.00\" text-anchor=\"middle\" x=\"239.1981\" y=\"-60.2982\">65</text>\n</g>\n<!-- node5&#45;&#45;node4 -->\n<g class=\"edge\" id=\"edge9\">\n<title>node5--node4</title>\n<path d=\"M226.3036,-47.4195C223.7127,-44.0883 220.9906,-40.5884 218.4027,-37.2612\" fill=\"none\" stroke=\"#000000\"/>\n</g>\n<!-- node7 -->\n<g class=\"node\" id=\"node8\">\n<title>node7</title>\n<ellipse cx=\"289.5981\" cy=\"-107.1982\" fill=\"none\" rx=\"20.5982\" ry=\"20.5982\" stroke=\"#000000\"/>\n<text fill=\"#000000\" font-family=\"Times,serif\" font-size=\"14.00\" text-anchor=\"middle\" x=\"289.5981\" y=\"-103.4982\">72</text>\n</g>\n<!-- node7&#45;&#45;node5 -->\n<g class=\"edge\" id=\"edge8\">\n<title>node7--node5</title>\n<path d=\"M273.6513,-93.5294C267.7681,-88.4867 261.1036,-82.7742 255.2143,-77.7263\" fill=\"none\" stroke=\"#000000\"/>\n</g>\n<!-- node6 -->\n<g class=\"node\" id=\"node9\">\n<title>node6</title>\n<ellipse cx=\"323.1981\" cy=\"-63.9982\" fill=\"none\" rx=\"20.5982\" ry=\"20.5982\" stroke=\"#000000\"/>\n<text fill=\"#000000\" font-family=\"Times,serif\" font-size=\"14.00\" text-anchor=\"middle\" x=\"323.1981\" y=\"-60.2982\">81</text>\n</g>\n<!-- node7&#45;&#45;node6 -->\n<g class=\"edge\" id=\"edge10\">\n<title>node7--node6</title>\n<path d=\"M302.4927,-90.6195C305.0836,-87.2883 307.8057,-83.7884 310.3936,-80.4612\" fill=\"none\" stroke=\"#000000\"/>\n</g>\n<!-- node8 -->\n<g class=\"node\" id=\"node10\">\n<title>node8</title>\n<ellipse cx=\"356.7981\" cy=\"-150.3982\" fill=\"none\" rx=\"20.5982\" ry=\"20.5982\" stroke=\"#000000\"/>\n<text fill=\"#000000\" font-family=\"Times,serif\" font-size=\"14.00\" text-anchor=\"middle\" x=\"356.7981\" y=\"-146.6982\">90</text>\n</g>\n<!-- node8&#45;&#45;node7 -->\n<g class=\"edge\" id=\"edge7\">\n<title>node8--node7</title>\n<path d=\"M339.1421,-139.0479C329.3426,-132.7481 317.1875,-124.9342 307.3696,-118.6226\" fill=\"none\" stroke=\"#000000\"/>\n</g>\n<!-- node9&#45;&#45;node8 -->\n<g class=\"edge\" id=\"edge6\">\n<title>node9--node8</title>\n<path d=\"M391.2513,-179.9294C385.3681,-174.8867 378.7036,-169.1742 372.8143,-164.1263\" fill=\"none\" stroke=\"#000000\"/>\n</g>\n</g>\n</svg>"
          },
          "metadata": {
            "tags": []
          }
        }
      ]
    },
    {
      "cell_type": "code",
      "metadata": {
        "colab": {
          "base_uri": "https://localhost:8080/",
          "height": 202
        },
        "id": "bx_Em41Nu2gK",
        "outputId": "88bb5921-b066-44ec-d087-093ac83a4af6"
      },
      "source": [
        "btd.draw_tree(AX1, \"raiz\")"
      ],
      "execution_count": 26,
      "outputs": [
        {
          "output_type": "display_data",
          "data": {
            "text/plain": [
              "<IPython.core.display.SVG object>"
            ],
            "image/svg+xml": "<svg height=\"136pt\" viewBox=\"0.00 0.00 248.40 136.00\" width=\"248pt\" xmlns=\"http://www.w3.org/2000/svg\" xmlns:xlink=\"http://www.w3.org/1999/xlink\">\n<g class=\"graph\" id=\"graph0\" transform=\"scale(1 1) rotate(0) translate(4 131.9963)\">\n<title>Arbol</title>\n<polygon fill=\"#ffffff\" points=\"-4,4 -4,-131.9963 244.3982,-131.9963 244.3982,4 -4,4\" stroke=\"transparent\"/>\n<!-- node0 -->\n<g class=\"node\" id=\"node1\">\n<title>node0</title>\n<ellipse cx=\"18\" cy=\"-20.7982\" fill=\"none\" rx=\"18\" ry=\"18\" stroke=\"#000000\"/>\n<text fill=\"#000000\" font-family=\"Times,serif\" font-size=\"14.00\" text-anchor=\"middle\" x=\"18\" y=\"-17.0982\">7</text>\n</g>\n<!-- node2 -->\n<g class=\"node\" id=\"node2\">\n<title>node2</title>\n<ellipse cx=\"51.6\" cy=\"-63.9982\" fill=\"none\" rx=\"20.5982\" ry=\"20.5982\" stroke=\"#000000\"/>\n<text fill=\"#000000\" font-family=\"Times,serif\" font-size=\"14.00\" text-anchor=\"middle\" x=\"51.6\" y=\"-60.2982\">10</text>\n</g>\n<!-- node2&#45;&#45;node0 -->\n<g class=\"edge\" id=\"edge2\">\n<title>node2--node0</title>\n<path d=\"M38.7055,-47.4195C35.5223,-43.3269 32.1412,-38.9796 29.0543,-35.0108\" fill=\"none\" stroke=\"#000000\"/>\n</g>\n<!-- node1 -->\n<g class=\"node\" id=\"node3\">\n<title>node1</title>\n<ellipse cx=\"85.2\" cy=\"-20.7982\" fill=\"none\" rx=\"20.5982\" ry=\"20.5982\" stroke=\"#000000\"/>\n<text fill=\"#000000\" font-family=\"Times,serif\" font-size=\"14.00\" text-anchor=\"middle\" x=\"85.2\" y=\"-17.0982\">12</text>\n</g>\n<!-- node2&#45;&#45;node1 -->\n<g class=\"edge\" id=\"edge3\">\n<title>node2--node1</title>\n<path d=\"M64.4945,-47.4195C67.0855,-44.0883 69.8076,-40.5884 72.3954,-37.2612\" fill=\"none\" stroke=\"#000000\"/>\n</g>\n<!-- node6 -->\n<g class=\"node\" id=\"node4\">\n<title>node6</title>\n<ellipse cx=\"118.8\" cy=\"-107.1982\" fill=\"none\" rx=\"20.5982\" ry=\"20.5982\" stroke=\"#000000\"/>\n<text fill=\"#000000\" font-family=\"Times,serif\" font-size=\"14.00\" text-anchor=\"middle\" x=\"118.8\" y=\"-103.4982\">18</text>\n</g>\n<!-- node6&#45;&#45;node2 -->\n<g class=\"edge\" id=\"edge1\">\n<title>node6--node2</title>\n<path d=\"M101.144,-95.8479C91.3444,-89.5482 79.1894,-81.7342 69.3714,-75.4226\" fill=\"none\" stroke=\"#000000\"/>\n</g>\n<!-- node5 -->\n<g class=\"node\" id=\"node6\">\n<title>node5</title>\n<ellipse cx=\"186\" cy=\"-63.9982\" fill=\"none\" rx=\"20.5982\" ry=\"20.5982\" stroke=\"#000000\"/>\n<text fill=\"#000000\" font-family=\"Times,serif\" font-size=\"14.00\" text-anchor=\"middle\" x=\"186\" y=\"-60.2982\">24</text>\n</g>\n<!-- node6&#45;&#45;node5 -->\n<g class=\"edge\" id=\"edge4\">\n<title>node6--node5</title>\n<path d=\"M136.456,-95.8479C146.2556,-89.5482 158.4106,-81.7342 168.2286,-75.4226\" fill=\"none\" stroke=\"#000000\"/>\n</g>\n<!-- node3 -->\n<g class=\"node\" id=\"node5\">\n<title>node3</title>\n<ellipse cx=\"152.4\" cy=\"-20.7982\" fill=\"none\" rx=\"20.5982\" ry=\"20.5982\" stroke=\"#000000\"/>\n<text fill=\"#000000\" font-family=\"Times,serif\" font-size=\"14.00\" text-anchor=\"middle\" x=\"152.4\" y=\"-17.0982\">20</text>\n</g>\n<!-- node5&#45;&#45;node3 -->\n<g class=\"edge\" id=\"edge5\">\n<title>node5--node3</title>\n<path d=\"M173.1055,-47.4195C170.5145,-44.0883 167.7924,-40.5884 165.2046,-37.2612\" fill=\"none\" stroke=\"#000000\"/>\n</g>\n<!-- node4 -->\n<g class=\"node\" id=\"node7\">\n<title>node4</title>\n<ellipse cx=\"219.6\" cy=\"-20.7982\" fill=\"none\" rx=\"20.5982\" ry=\"20.5982\" stroke=\"#000000\"/>\n<text fill=\"#000000\" font-family=\"Times,serif\" font-size=\"14.00\" text-anchor=\"middle\" x=\"219.6\" y=\"-17.0982\">30</text>\n</g>\n<!-- node5&#45;&#45;node4 -->\n<g class=\"edge\" id=\"edge6\">\n<title>node5--node4</title>\n<path d=\"M198.8945,-47.4195C201.4855,-44.0883 204.2076,-40.5884 206.7954,-37.2612\" fill=\"none\" stroke=\"#000000\"/>\n</g>\n</g>\n</svg>"
          },
          "metadata": {
            "tags": []
          }
        }
      ]
    },
    {
      "cell_type": "code",
      "metadata": {
        "colab": {
          "base_uri": "https://localhost:8080/",
          "height": 259
        },
        "id": "fKd_Q0FGu69n",
        "outputId": "6ce02906-b1aa-46a1-8cbc-891c998c679c"
      },
      "source": [
        "btd.draw_tree(AX2, \"raiz\")"
      ],
      "execution_count": 27,
      "outputs": [
        {
          "output_type": "display_data",
          "data": {
            "text/plain": [
              "<IPython.core.display.SVG object>"
            ],
            "image/svg+xml": "<svg height=\"179pt\" viewBox=\"0.00 0.00 184.00 179.20\" width=\"184pt\" xmlns=\"http://www.w3.org/2000/svg\" xmlns:xlink=\"http://www.w3.org/1999/xlink\">\n<g class=\"graph\" id=\"graph0\" transform=\"scale(1 1) rotate(0) translate(4 175.1963)\">\n<title>Arbol</title>\n<polygon fill=\"#ffffff\" points=\"-4,4 -4,-175.1963 179.9963,-175.1963 179.9963,4 -4,4\" stroke=\"transparent\"/>\n<!-- node3 -->\n<g class=\"node\" id=\"node1\">\n<title>node3</title>\n<ellipse cx=\"20.7982\" cy=\"-150.3982\" fill=\"none\" rx=\"20.5982\" ry=\"20.5982\" stroke=\"#000000\"/>\n<text fill=\"#000000\" font-family=\"Times,serif\" font-size=\"14.00\" text-anchor=\"middle\" x=\"20.7982\" y=\"-146.6982\">10</text>\n</g>\n<!-- node2 -->\n<g class=\"node\" id=\"node2\">\n<title>node2</title>\n<ellipse cx=\"71.1982\" cy=\"-107.1982\" fill=\"none\" rx=\"20.5982\" ry=\"20.5982\" stroke=\"#000000\"/>\n<text fill=\"#000000\" font-family=\"Times,serif\" font-size=\"14.00\" text-anchor=\"middle\" x=\"71.1982\" y=\"-103.4982\">12</text>\n</g>\n<!-- node3&#45;&#45;node2 -->\n<g class=\"edge\" id=\"edge1\">\n<title>node3--node2</title>\n<path d=\"M36.745,-136.7294C42.6282,-131.6867 49.2927,-125.9742 55.182,-120.9263\" fill=\"none\" stroke=\"#000000\"/>\n</g>\n<!-- node1 -->\n<g class=\"node\" id=\"node3\">\n<title>node1</title>\n<ellipse cx=\"121.5982\" cy=\"-63.9982\" fill=\"none\" rx=\"20.5982\" ry=\"20.5982\" stroke=\"#000000\"/>\n<text fill=\"#000000\" font-family=\"Times,serif\" font-size=\"14.00\" text-anchor=\"middle\" x=\"121.5982\" y=\"-60.2982\">14</text>\n</g>\n<!-- node2&#45;&#45;node1 -->\n<g class=\"edge\" id=\"edge2\">\n<title>node2--node1</title>\n<path d=\"M87.145,-93.5294C93.0282,-88.4867 99.6927,-82.7742 105.582,-77.7263\" fill=\"none\" stroke=\"#000000\"/>\n</g>\n<!-- node0 -->\n<g class=\"node\" id=\"node4\">\n<title>node0</title>\n<ellipse cx=\"155.1982\" cy=\"-20.7982\" fill=\"none\" rx=\"20.5982\" ry=\"20.5982\" stroke=\"#000000\"/>\n<text fill=\"#000000\" font-family=\"Times,serif\" font-size=\"14.00\" text-anchor=\"middle\" x=\"155.1982\" y=\"-17.0982\">20</text>\n</g>\n<!-- node1&#45;&#45;node0 -->\n<g class=\"edge\" id=\"edge3\">\n<title>node1--node0</title>\n<path d=\"M134.4927,-47.4195C137.0836,-44.0883 139.8057,-40.5884 142.3936,-37.2612\" fill=\"none\" stroke=\"#000000\"/>\n</g>\n</g>\n</svg>"
          },
          "metadata": {
            "tags": []
          }
        }
      ]
    },
    {
      "cell_type": "code",
      "metadata": {
        "colab": {
          "base_uri": "https://localhost:8080/",
          "height": 198
        },
        "id": "73X9bgBRu8-h",
        "outputId": "3f217edb-e033-475a-cef0-aef0dc296829"
      },
      "source": [
        "btd.draw_tree(AX3, \"raiz\")"
      ],
      "execution_count": 28,
      "outputs": [
        {
          "output_type": "display_data",
          "data": {
            "text/plain": [
              "<IPython.core.display.SVG object>"
            ],
            "image/svg+xml": "<svg height=\"133pt\" viewBox=\"0.00 0.00 147.60 133.20\" width=\"148pt\" xmlns=\"http://www.w3.org/2000/svg\" xmlns:xlink=\"http://www.w3.org/1999/xlink\">\n<g class=\"graph\" id=\"graph0\" transform=\"scale(1 1) rotate(0) translate(4 129.1982)\">\n<title>Arbol</title>\n<polygon fill=\"#ffffff\" points=\"-4,4 -4,-129.1982 143.5982,-129.1982 143.5982,4 -4,4\" stroke=\"transparent\"/>\n<!-- node0 -->\n<g class=\"node\" id=\"node1\">\n<title>node0</title>\n<ellipse cx=\"18\" cy=\"-18\" fill=\"none\" rx=\"18\" ry=\"18\" stroke=\"#000000\"/>\n<text fill=\"#000000\" font-family=\"Times,serif\" font-size=\"14.00\" text-anchor=\"middle\" x=\"18\" y=\"-14.3\">5</text>\n</g>\n<!-- node2 -->\n<g class=\"node\" id=\"node2\">\n<title>node2</title>\n<ellipse cx=\"51.6\" cy=\"-61.2\" fill=\"none\" rx=\"18\" ry=\"18\" stroke=\"#000000\"/>\n<text fill=\"#000000\" font-family=\"Times,serif\" font-size=\"14.00\" text-anchor=\"middle\" x=\"51.6\" y=\"-57.5\">7</text>\n</g>\n<!-- node2&#45;&#45;node0 -->\n<g class=\"edge\" id=\"edge2\">\n<title>node2--node0</title>\n<path d=\"M40.2246,-46.5745C36.6454,-41.9726 32.6982,-36.8977 29.1358,-32.3175\" fill=\"none\" stroke=\"#000000\"/>\n</g>\n<!-- node1 -->\n<g class=\"node\" id=\"node3\">\n<title>node1</title>\n<ellipse cx=\"85.2\" cy=\"-18\" fill=\"none\" rx=\"18\" ry=\"18\" stroke=\"#000000\"/>\n<text fill=\"#000000\" font-family=\"Times,serif\" font-size=\"14.00\" text-anchor=\"middle\" x=\"85.2\" y=\"-14.3\">9</text>\n</g>\n<!-- node2&#45;&#45;node1 -->\n<g class=\"edge\" id=\"edge3\">\n<title>node2--node1</title>\n<path d=\"M62.9754,-46.5745C66.5546,-41.9726 70.5018,-36.8977 74.0642,-32.3175\" fill=\"none\" stroke=\"#000000\"/>\n</g>\n<!-- node3 -->\n<g class=\"node\" id=\"node4\">\n<title>node3</title>\n<ellipse cx=\"118.8\" cy=\"-104.4\" fill=\"none\" rx=\"20.5982\" ry=\"20.5982\" stroke=\"#000000\"/>\n<text fill=\"#000000\" font-family=\"Times,serif\" font-size=\"14.00\" text-anchor=\"middle\" x=\"118.8\" y=\"-100.7\">10</text>\n</g>\n<!-- node3&#45;&#45;node2 -->\n<g class=\"edge\" id=\"edge1\">\n<title>node3--node2</title>\n<path d=\"M101.144,-93.0497C90.5667,-86.25 77.2451,-77.6862 67.0803,-71.1516\" fill=\"none\" stroke=\"#000000\"/>\n</g>\n</g>\n</svg>"
          },
          "metadata": {
            "tags": []
          }
        }
      ]
    },
    {
      "cell_type": "markdown",
      "metadata": {
        "id": "nZ-WuigkvBwk"
      },
      "source": [
        "También podemos forzar a que se dibujen los \"NULL\" con el parámetro \"drawNull\" del constructor."
      ]
    },
    {
      "cell_type": "code",
      "metadata": {
        "colab": {
          "base_uri": "https://localhost:8080/",
          "height": 414
        },
        "id": "Jhug7Ysau-YP",
        "outputId": "fd2269e3-2353-49af-886f-58b5d43dd7e3"
      },
      "source": [
        "btd = aed.BinaryTreeDrawer(fieldData=\"info\", fieldLeft=\"izq\", fieldRight=\"der\", drawNull=True)\n",
        "btd.draw_tree(AX, \"raiz\")"
      ],
      "execution_count": 29,
      "outputs": [
        {
          "output_type": "display_data",
          "data": {
            "text/plain": [
              "<IPython.core.display.SVG object>"
            ],
            "image/svg+xml": "<svg height=\"295pt\" viewBox=\"0.00 0.00 761.20 295.00\" width=\"761pt\" xmlns=\"http://www.w3.org/2000/svg\" xmlns:xlink=\"http://www.w3.org/1999/xlink\">\n<g class=\"graph\" id=\"graph0\" transform=\"scale(1 1) rotate(0) translate(4 290.9982)\">\n<title>Arbol</title>\n<polygon fill=\"#ffffff\" points=\"-4,4 -4,-290.9982 757.2,-290.9982 757.2,4 -4,4\" stroke=\"transparent\"/>\n<!-- null0 -->\n<g class=\"node\" id=\"node1\">\n<title>null0</title>\n<polygon fill=\"none\" points=\"14,-143.6 0,-143.6 0,-129.6 14,-129.6 14,-143.6\" stroke=\"#000000\"/>\n</g>\n<!-- node0 -->\n<g class=\"node\" id=\"node2\">\n<title>node0</title>\n<ellipse cx=\"40.6\" cy=\"-179.8\" fill=\"none\" rx=\"20.5982\" ry=\"20.5982\" stroke=\"#000000\"/>\n<text fill=\"#000000\" font-family=\"Times,serif\" font-size=\"14.00\" text-anchor=\"middle\" x=\"40.6\" y=\"-176.1\">15</text>\n</g>\n<!-- node0&#45;&#45;null0 -->\n<g class=\"edge\" id=\"edge3\">\n<title>node0--null0</title>\n<path d=\"M27.7055,-163.2213C22.5236,-156.5589 16.817,-149.2218 12.7093,-143.9405\" fill=\"none\" stroke=\"#000000\"/>\n</g>\n<!-- null1 -->\n<g class=\"node\" id=\"node3\">\n<title>null1</title>\n<polygon fill=\"none\" points=\"81.2,-143.6 67.2,-143.6 67.2,-129.6 81.2,-129.6 81.2,-143.6\" stroke=\"#000000\"/>\n</g>\n<!-- node0&#45;&#45;null1 -->\n<g class=\"edge\" id=\"edge4\">\n<title>node0--null1</title>\n<path d=\"M53.4945,-163.2213C58.6764,-156.5589 64.383,-149.2218 68.4907,-143.9405\" fill=\"none\" stroke=\"#000000\"/>\n</g>\n<!-- node3 -->\n<g class=\"node\" id=\"node4\">\n<title>node3</title>\n<ellipse cx=\"107.8\" cy=\"-223\" fill=\"none\" rx=\"20.5982\" ry=\"20.5982\" stroke=\"#000000\"/>\n<text fill=\"#000000\" font-family=\"Times,serif\" font-size=\"14.00\" text-anchor=\"middle\" x=\"107.8\" y=\"-219.3\">20</text>\n</g>\n<!-- node3&#45;&#45;node0 -->\n<g class=\"edge\" id=\"edge2\">\n<title>node3--node0</title>\n<path d=\"M90.144,-211.6497C80.3444,-205.35 68.1894,-197.536 58.3714,-191.2245\" fill=\"none\" stroke=\"#000000\"/>\n</g>\n<!-- node2 -->\n<g class=\"node\" id=\"node8\">\n<title>node2</title>\n<ellipse cx=\"242.2\" cy=\"-179.8\" fill=\"none\" rx=\"20.5982\" ry=\"20.5982\" stroke=\"#000000\"/>\n<text fill=\"#000000\" font-family=\"Times,serif\" font-size=\"14.00\" text-anchor=\"middle\" x=\"242.2\" y=\"-176.1\">35</text>\n</g>\n<!-- node3&#45;&#45;node2 -->\n<g class=\"edge\" id=\"edge5\">\n<title>node3--node2</title>\n<path d=\"M127.6312,-216.6257C153.0417,-208.458 196.8377,-194.3807 222.2874,-186.2005\" fill=\"none\" stroke=\"#000000\"/>\n</g>\n<!-- null2 -->\n<g class=\"node\" id=\"node5\">\n<title>null2</title>\n<polygon fill=\"none\" points=\"148.4,-100.4 134.4,-100.4 134.4,-86.4 148.4,-86.4 148.4,-100.4\" stroke=\"#000000\"/>\n</g>\n<!-- node1 -->\n<g class=\"node\" id=\"node6\">\n<title>node1</title>\n<ellipse cx=\"175\" cy=\"-136.6\" fill=\"none\" rx=\"20.5982\" ry=\"20.5982\" stroke=\"#000000\"/>\n<text fill=\"#000000\" font-family=\"Times,serif\" font-size=\"14.00\" text-anchor=\"middle\" x=\"175\" y=\"-132.9\">30</text>\n</g>\n<!-- node1&#45;&#45;null2 -->\n<g class=\"edge\" id=\"edge7\">\n<title>node1--null2</title>\n<path d=\"M162.1054,-120.0213C156.9236,-113.3589 151.217,-106.0218 147.1093,-100.7405\" fill=\"none\" stroke=\"#000000\"/>\n</g>\n<!-- null3 -->\n<g class=\"node\" id=\"node7\">\n<title>null3</title>\n<polygon fill=\"none\" points=\"215.6,-100.4 201.6,-100.4 201.6,-86.4 215.6,-86.4 215.6,-100.4\" stroke=\"#000000\"/>\n</g>\n<!-- node1&#45;&#45;null3 -->\n<g class=\"edge\" id=\"edge8\">\n<title>node1--null3</title>\n<path d=\"M187.8945,-120.0213C193.0764,-113.3589 198.783,-106.0218 202.8907,-100.7405\" fill=\"none\" stroke=\"#000000\"/>\n</g>\n<!-- node2&#45;&#45;node1 -->\n<g class=\"edge\" id=\"edge6\">\n<title>node2--node1</title>\n<path d=\"M224.544,-168.4497C214.7444,-162.15 202.5894,-154.336 192.7714,-148.0245\" fill=\"none\" stroke=\"#000000\"/>\n</g>\n<!-- null4 -->\n<g class=\"node\" id=\"node9\">\n<title>null4</title>\n<polygon fill=\"none\" points=\"282.8,-143.6 268.8,-143.6 268.8,-129.6 282.8,-129.6 282.8,-143.6\" stroke=\"#000000\"/>\n</g>\n<!-- node2&#45;&#45;null4 -->\n<g class=\"edge\" id=\"edge9\">\n<title>node2--null4</title>\n<path d=\"M255.0945,-163.2213C260.2764,-156.5589 265.983,-149.2218 270.0907,-143.9405\" fill=\"none\" stroke=\"#000000\"/>\n</g>\n<!-- node10 -->\n<g class=\"node\" id=\"node10\">\n<title>node10</title>\n<ellipse cx=\"309.4\" cy=\"-266.2\" fill=\"none\" rx=\"20.5982\" ry=\"20.5982\" stroke=\"#000000\"/>\n<text fill=\"#000000\" font-family=\"Times,serif\" font-size=\"14.00\" text-anchor=\"middle\" x=\"309.4\" y=\"-262.5\">42</text>\n</g>\n<!-- node10&#45;&#45;node3 -->\n<g class=\"edge\" id=\"edge1\">\n<title>node10--node3</title>\n<path d=\"M288.9601,-261.82C250.3204,-253.5401 166.9753,-235.6804 128.294,-227.3916\" fill=\"none\" stroke=\"#000000\"/>\n</g>\n<!-- node9 -->\n<g class=\"node\" id=\"node22\">\n<title>node9</title>\n<ellipse cx=\"712.6\" cy=\"-223\" fill=\"none\" rx=\"20.5982\" ry=\"20.5982\" stroke=\"#000000\"/>\n<text fill=\"#000000\" font-family=\"Times,serif\" font-size=\"14.00\" text-anchor=\"middle\" x=\"712.6\" y=\"-219.3\">95</text>\n</g>\n<!-- node10&#45;&#45;node9 -->\n<g class=\"edge\" id=\"edge10\">\n<title>node10--node9</title>\n<path d=\"M330.2287,-263.9684C399.5697,-256.539 622.1403,-232.6921 691.6538,-225.2442\" fill=\"none\" stroke=\"#000000\"/>\n</g>\n<!-- null5 -->\n<g class=\"node\" id=\"node11\">\n<title>null5</title>\n<polygon fill=\"none\" points=\"350,-14 336,-14 336,0 350,0 350,-14\" stroke=\"#000000\"/>\n</g>\n<!-- node4 -->\n<g class=\"node\" id=\"node12\">\n<title>node4</title>\n<ellipse cx=\"376.6\" cy=\"-50.2\" fill=\"none\" rx=\"20.5982\" ry=\"20.5982\" stroke=\"#000000\"/>\n<text fill=\"#000000\" font-family=\"Times,serif\" font-size=\"14.00\" text-anchor=\"middle\" x=\"376.6\" y=\"-46.5\">62</text>\n</g>\n<!-- node4&#45;&#45;null5 -->\n<g class=\"edge\" id=\"edge15\">\n<title>node4--null5</title>\n<path d=\"M363.7054,-33.6213C358.5236,-26.9589 352.817,-19.6218 348.7093,-14.3405\" fill=\"none\" stroke=\"#000000\"/>\n</g>\n<!-- null6 -->\n<g class=\"node\" id=\"node13\">\n<title>null6</title>\n<polygon fill=\"none\" points=\"417.2,-14 403.2,-14 403.2,0 417.2,0 417.2,-14\" stroke=\"#000000\"/>\n</g>\n<!-- node4&#45;&#45;null6 -->\n<g class=\"edge\" id=\"edge16\">\n<title>node4--null6</title>\n<path d=\"M389.4945,-33.6213C394.6764,-26.9589 400.383,-19.6218 404.4907,-14.3405\" fill=\"none\" stroke=\"#000000\"/>\n</g>\n<!-- node5 -->\n<g class=\"node\" id=\"node14\">\n<title>node5</title>\n<ellipse cx=\"443.8\" cy=\"-93.4\" fill=\"none\" rx=\"20.5982\" ry=\"20.5982\" stroke=\"#000000\"/>\n<text fill=\"#000000\" font-family=\"Times,serif\" font-size=\"14.00\" text-anchor=\"middle\" x=\"443.8\" y=\"-89.7\">65</text>\n</g>\n<!-- node5&#45;&#45;node4 -->\n<g class=\"edge\" id=\"edge14\">\n<title>node5--node4</title>\n<path d=\"M426.144,-82.0497C416.3444,-75.75 404.1894,-67.936 394.3714,-61.6245\" fill=\"none\" stroke=\"#000000\"/>\n</g>\n<!-- null7 -->\n<g class=\"node\" id=\"node15\">\n<title>null7</title>\n<polygon fill=\"none\" points=\"484.4,-57.2 470.4,-57.2 470.4,-43.2 484.4,-43.2 484.4,-57.2\" stroke=\"#000000\"/>\n</g>\n<!-- node5&#45;&#45;null7 -->\n<g class=\"edge\" id=\"edge17\">\n<title>node5--null7</title>\n<path d=\"M456.6945,-76.8213C461.8764,-70.1589 467.583,-62.8218 471.6907,-57.5405\" fill=\"none\" stroke=\"#000000\"/>\n</g>\n<!-- node7 -->\n<g class=\"node\" id=\"node16\">\n<title>node7</title>\n<ellipse cx=\"511\" cy=\"-136.6\" fill=\"none\" rx=\"20.5982\" ry=\"20.5982\" stroke=\"#000000\"/>\n<text fill=\"#000000\" font-family=\"Times,serif\" font-size=\"14.00\" text-anchor=\"middle\" x=\"511\" y=\"-132.9\">72</text>\n</g>\n<!-- node7&#45;&#45;node5 -->\n<g class=\"edge\" id=\"edge13\">\n<title>node7--node5</title>\n<path d=\"M493.344,-125.2497C483.5444,-118.95 471.3894,-111.136 461.5714,-104.8245\" fill=\"none\" stroke=\"#000000\"/>\n</g>\n<!-- node6 -->\n<g class=\"node\" id=\"node18\">\n<title>node6</title>\n<ellipse cx=\"578.2\" cy=\"-93.4\" fill=\"none\" rx=\"20.5982\" ry=\"20.5982\" stroke=\"#000000\"/>\n<text fill=\"#000000\" font-family=\"Times,serif\" font-size=\"14.00\" text-anchor=\"middle\" x=\"578.2\" y=\"-89.7\">81</text>\n</g>\n<!-- node7&#45;&#45;node6 -->\n<g class=\"edge\" id=\"edge18\">\n<title>node7--node6</title>\n<path d=\"M528.656,-125.2497C538.4556,-118.95 550.6106,-111.136 560.4286,-104.8245\" fill=\"none\" stroke=\"#000000\"/>\n</g>\n<!-- null8 -->\n<g class=\"node\" id=\"node17\">\n<title>null8</title>\n<polygon fill=\"none\" points=\"551.6,-57.2 537.6,-57.2 537.6,-43.2 551.6,-43.2 551.6,-57.2\" stroke=\"#000000\"/>\n</g>\n<!-- node6&#45;&#45;null8 -->\n<g class=\"edge\" id=\"edge19\">\n<title>node6--null8</title>\n<path d=\"M565.3054,-76.8213C560.1236,-70.1589 554.417,-62.8218 550.3093,-57.5405\" fill=\"none\" stroke=\"#000000\"/>\n</g>\n<!-- null9 -->\n<g class=\"node\" id=\"node19\">\n<title>null9</title>\n<polygon fill=\"none\" points=\"618.8,-57.2 604.8,-57.2 604.8,-43.2 618.8,-43.2 618.8,-57.2\" stroke=\"#000000\"/>\n</g>\n<!-- node6&#45;&#45;null9 -->\n<g class=\"edge\" id=\"edge20\">\n<title>node6--null9</title>\n<path d=\"M591.0945,-76.8213C596.2764,-70.1589 601.983,-62.8218 606.0907,-57.5405\" fill=\"none\" stroke=\"#000000\"/>\n</g>\n<!-- node8 -->\n<g class=\"node\" id=\"node20\">\n<title>node8</title>\n<ellipse cx=\"645.4\" cy=\"-179.8\" fill=\"none\" rx=\"20.5982\" ry=\"20.5982\" stroke=\"#000000\"/>\n<text fill=\"#000000\" font-family=\"Times,serif\" font-size=\"14.00\" text-anchor=\"middle\" x=\"645.4\" y=\"-176.1\">90</text>\n</g>\n<!-- node8&#45;&#45;node7 -->\n<g class=\"edge\" id=\"edge12\">\n<title>node8--node7</title>\n<path d=\"M625.5688,-173.4257C600.1583,-165.258 556.3622,-151.1807 530.9125,-143.0005\" fill=\"none\" stroke=\"#000000\"/>\n</g>\n<!-- null10 -->\n<g class=\"node\" id=\"node21\">\n<title>null10</title>\n<polygon fill=\"none\" points=\"686,-143.6 672,-143.6 672,-129.6 686,-129.6 686,-143.6\" stroke=\"#000000\"/>\n</g>\n<!-- node8&#45;&#45;null10 -->\n<g class=\"edge\" id=\"edge21\">\n<title>node8--null10</title>\n<path d=\"M658.2945,-163.2213C663.4764,-156.5589 669.183,-149.2218 673.2907,-143.9405\" fill=\"none\" stroke=\"#000000\"/>\n</g>\n<!-- node9&#45;&#45;node8 -->\n<g class=\"edge\" id=\"edge11\">\n<title>node9--node8</title>\n<path d=\"M694.944,-211.6497C685.1444,-205.35 672.9893,-197.536 663.1714,-191.2245\" fill=\"none\" stroke=\"#000000\"/>\n</g>\n<!-- null11 -->\n<g class=\"node\" id=\"node23\">\n<title>null11</title>\n<polygon fill=\"none\" points=\"753.2,-186.8 739.2,-186.8 739.2,-172.8 753.2,-172.8 753.2,-186.8\" stroke=\"#000000\"/>\n</g>\n<!-- node9&#45;&#45;null11 -->\n<g class=\"edge\" id=\"edge22\">\n<title>node9--null11</title>\n<path d=\"M725.4945,-206.4213C730.6764,-199.7589 736.383,-192.4218 740.4907,-187.1405\" fill=\"none\" stroke=\"#000000\"/>\n</g>\n</g>\n</svg>"
          },
          "metadata": {
            "tags": []
          }
        }
      ]
    },
    {
      "cell_type": "code",
      "metadata": {
        "colab": {
          "base_uri": "https://localhost:8080/",
          "height": 240
        },
        "id": "X92yqNHwvVZo",
        "outputId": "b0a20912-7308-4daf-9d47-6b1f38fb941e"
      },
      "source": [
        "btd.draw_tree(AX1, \"raiz\")"
      ],
      "execution_count": 30,
      "outputs": [
        {
          "output_type": "display_data",
          "data": {
            "text/plain": [
              "<IPython.core.display.SVG object>"
            ],
            "image/svg+xml": "<svg height=\"165pt\" viewBox=\"0.00 0.00 492.40 165.40\" width=\"492pt\" xmlns=\"http://www.w3.org/2000/svg\" xmlns:xlink=\"http://www.w3.org/1999/xlink\">\n<g class=\"graph\" id=\"graph0\" transform=\"scale(1 1) rotate(0) translate(4 161.3982)\">\n<title>Arbol</title>\n<polygon fill=\"#ffffff\" points=\"-4,4 -4,-161.3982 488.4,-161.3982 488.4,4 -4,4\" stroke=\"transparent\"/>\n<!-- null0 -->\n<g class=\"node\" id=\"node1\">\n<title>null0</title>\n<polygon fill=\"none\" points=\"14,-14 0,-14 0,0 14,0 14,-14\" stroke=\"#000000\"/>\n</g>\n<!-- node0 -->\n<g class=\"node\" id=\"node2\">\n<title>node0</title>\n<ellipse cx=\"40.6\" cy=\"-50.2\" fill=\"none\" rx=\"18\" ry=\"18\" stroke=\"#000000\"/>\n<text fill=\"#000000\" font-family=\"Times,serif\" font-size=\"14.00\" text-anchor=\"middle\" x=\"40.6\" y=\"-46.5\">7</text>\n</g>\n<!-- node0&#45;&#45;null0 -->\n<g class=\"edge\" id=\"edge3\">\n<title>node0--null0</title>\n<path d=\"M29.2246,-35.5745C23.5892,-28.329 17.0417,-19.9107 12.5201,-14.0973\" fill=\"none\" stroke=\"#000000\"/>\n</g>\n<!-- null1 -->\n<g class=\"node\" id=\"node3\">\n<title>null1</title>\n<polygon fill=\"none\" points=\"81.2,-14 67.2,-14 67.2,0 81.2,0 81.2,-14\" stroke=\"#000000\"/>\n</g>\n<!-- node0&#45;&#45;null1 -->\n<g class=\"edge\" id=\"edge4\">\n<title>node0--null1</title>\n<path d=\"M51.9754,-35.5745C57.6108,-28.329 64.1583,-19.9107 68.6799,-14.0973\" fill=\"none\" stroke=\"#000000\"/>\n</g>\n<!-- node2 -->\n<g class=\"node\" id=\"node4\">\n<title>node2</title>\n<ellipse cx=\"107.8\" cy=\"-93.4\" fill=\"none\" rx=\"20.5982\" ry=\"20.5982\" stroke=\"#000000\"/>\n<text fill=\"#000000\" font-family=\"Times,serif\" font-size=\"14.00\" text-anchor=\"middle\" x=\"107.8\" y=\"-89.7\">10</text>\n</g>\n<!-- node2&#45;&#45;node0 -->\n<g class=\"edge\" id=\"edge2\">\n<title>node2--node0</title>\n<path d=\"M90.144,-82.0497C79.5667,-75.25 66.2451,-66.6862 56.0803,-60.1516\" fill=\"none\" stroke=\"#000000\"/>\n</g>\n<!-- node1 -->\n<g class=\"node\" id=\"node6\">\n<title>node1</title>\n<ellipse cx=\"175\" cy=\"-50.2\" fill=\"none\" rx=\"20.5982\" ry=\"20.5982\" stroke=\"#000000\"/>\n<text fill=\"#000000\" font-family=\"Times,serif\" font-size=\"14.00\" text-anchor=\"middle\" x=\"175\" y=\"-46.5\">12</text>\n</g>\n<!-- node2&#45;&#45;node1 -->\n<g class=\"edge\" id=\"edge5\">\n<title>node2--node1</title>\n<path d=\"M125.456,-82.0497C135.2556,-75.75 147.4106,-67.936 157.2286,-61.6245\" fill=\"none\" stroke=\"#000000\"/>\n</g>\n<!-- null2 -->\n<g class=\"node\" id=\"node5\">\n<title>null2</title>\n<polygon fill=\"none\" points=\"148.4,-14 134.4,-14 134.4,0 148.4,0 148.4,-14\" stroke=\"#000000\"/>\n</g>\n<!-- node1&#45;&#45;null2 -->\n<g class=\"edge\" id=\"edge6\">\n<title>node1--null2</title>\n<path d=\"M162.1055,-33.6213C156.9236,-26.9589 151.217,-19.6218 147.1093,-14.3405\" fill=\"none\" stroke=\"#000000\"/>\n</g>\n<!-- null3 -->\n<g class=\"node\" id=\"node7\">\n<title>null3</title>\n<polygon fill=\"none\" points=\"215.6,-14 201.6,-14 201.6,0 215.6,0 215.6,-14\" stroke=\"#000000\"/>\n</g>\n<!-- node1&#45;&#45;null3 -->\n<g class=\"edge\" id=\"edge7\">\n<title>node1--null3</title>\n<path d=\"M187.8945,-33.6213C193.0764,-26.9589 198.783,-19.6218 202.8907,-14.3405\" fill=\"none\" stroke=\"#000000\"/>\n</g>\n<!-- node6 -->\n<g class=\"node\" id=\"node8\">\n<title>node6</title>\n<ellipse cx=\"242.2\" cy=\"-136.6\" fill=\"none\" rx=\"20.5982\" ry=\"20.5982\" stroke=\"#000000\"/>\n<text fill=\"#000000\" font-family=\"Times,serif\" font-size=\"14.00\" text-anchor=\"middle\" x=\"242.2\" y=\"-132.9\">18</text>\n</g>\n<!-- node6&#45;&#45;node2 -->\n<g class=\"edge\" id=\"edge1\">\n<title>node6--node2</title>\n<path d=\"M222.3688,-130.2257C196.9583,-122.058 153.1623,-107.9807 127.7125,-99.8005\" fill=\"none\" stroke=\"#000000\"/>\n</g>\n<!-- node5 -->\n<g class=\"node\" id=\"node12\">\n<title>node5</title>\n<ellipse cx=\"376.6\" cy=\"-93.4\" fill=\"none\" rx=\"20.5982\" ry=\"20.5982\" stroke=\"#000000\"/>\n<text fill=\"#000000\" font-family=\"Times,serif\" font-size=\"14.00\" text-anchor=\"middle\" x=\"376.6\" y=\"-89.7\">24</text>\n</g>\n<!-- node6&#45;&#45;node5 -->\n<g class=\"edge\" id=\"edge8\">\n<title>node6--node5</title>\n<path d=\"M262.0312,-130.2257C287.4417,-122.058 331.2377,-107.9807 356.6875,-99.8005\" fill=\"none\" stroke=\"#000000\"/>\n</g>\n<!-- null4 -->\n<g class=\"node\" id=\"node9\">\n<title>null4</title>\n<polygon fill=\"none\" points=\"282.8,-14 268.8,-14 268.8,0 282.8,0 282.8,-14\" stroke=\"#000000\"/>\n</g>\n<!-- node3 -->\n<g class=\"node\" id=\"node10\">\n<title>node3</title>\n<ellipse cx=\"309.4\" cy=\"-50.2\" fill=\"none\" rx=\"20.5982\" ry=\"20.5982\" stroke=\"#000000\"/>\n<text fill=\"#000000\" font-family=\"Times,serif\" font-size=\"14.00\" text-anchor=\"middle\" x=\"309.4\" y=\"-46.5\">20</text>\n</g>\n<!-- node3&#45;&#45;null4 -->\n<g class=\"edge\" id=\"edge10\">\n<title>node3--null4</title>\n<path d=\"M296.5055,-33.6213C291.3236,-26.9589 285.617,-19.6218 281.5093,-14.3405\" fill=\"none\" stroke=\"#000000\"/>\n</g>\n<!-- null5 -->\n<g class=\"node\" id=\"node11\">\n<title>null5</title>\n<polygon fill=\"none\" points=\"350,-14 336,-14 336,0 350,0 350,-14\" stroke=\"#000000\"/>\n</g>\n<!-- node3&#45;&#45;null5 -->\n<g class=\"edge\" id=\"edge11\">\n<title>node3--null5</title>\n<path d=\"M322.2945,-33.6213C327.4764,-26.9589 333.183,-19.6218 337.2907,-14.3405\" fill=\"none\" stroke=\"#000000\"/>\n</g>\n<!-- node5&#45;&#45;node3 -->\n<g class=\"edge\" id=\"edge9\">\n<title>node5--node3</title>\n<path d=\"M358.944,-82.0497C349.1444,-75.75 336.9894,-67.936 327.1714,-61.6245\" fill=\"none\" stroke=\"#000000\"/>\n</g>\n<!-- node4 -->\n<g class=\"node\" id=\"node14\">\n<title>node4</title>\n<ellipse cx=\"443.8\" cy=\"-50.2\" fill=\"none\" rx=\"20.5982\" ry=\"20.5982\" stroke=\"#000000\"/>\n<text fill=\"#000000\" font-family=\"Times,serif\" font-size=\"14.00\" text-anchor=\"middle\" x=\"443.8\" y=\"-46.5\">30</text>\n</g>\n<!-- node5&#45;&#45;node4 -->\n<g class=\"edge\" id=\"edge12\">\n<title>node5--node4</title>\n<path d=\"M394.256,-82.0497C404.0556,-75.75 416.2106,-67.936 426.0286,-61.6245\" fill=\"none\" stroke=\"#000000\"/>\n</g>\n<!-- null6 -->\n<g class=\"node\" id=\"node13\">\n<title>null6</title>\n<polygon fill=\"none\" points=\"417.2,-14 403.2,-14 403.2,0 417.2,0 417.2,-14\" stroke=\"#000000\"/>\n</g>\n<!-- node4&#45;&#45;null6 -->\n<g class=\"edge\" id=\"edge13\">\n<title>node4--null6</title>\n<path d=\"M430.9055,-33.6213C425.7236,-26.9589 420.017,-19.6218 415.9093,-14.3405\" fill=\"none\" stroke=\"#000000\"/>\n</g>\n<!-- null7 -->\n<g class=\"node\" id=\"node15\">\n<title>null7</title>\n<polygon fill=\"none\" points=\"484.4,-14 470.4,-14 470.4,0 484.4,0 484.4,-14\" stroke=\"#000000\"/>\n</g>\n<!-- node4&#45;&#45;null7 -->\n<g class=\"edge\" id=\"edge14\">\n<title>node4--null7</title>\n<path d=\"M456.6945,-33.6213C461.8764,-26.9589 467.583,-19.6218 471.6907,-14.3405\" fill=\"none\" stroke=\"#000000\"/>\n</g>\n</g>\n</svg>"
          },
          "metadata": {
            "tags": []
          }
        }
      ]
    },
    {
      "cell_type": "code",
      "metadata": {
        "colab": {
          "base_uri": "https://localhost:8080/",
          "height": 299
        },
        "id": "kxkN1O2mvYPO",
        "outputId": "87814eaa-38f6-4e5a-da5a-543018c2fe55"
      },
      "source": [
        "btd.draw_tree(AX2, \"raiz\")"
      ],
      "execution_count": 31,
      "outputs": [
        {
          "output_type": "display_data",
          "data": {
            "text/plain": [
              "<IPython.core.display.SVG object>"
            ],
            "image/svg+xml": "<svg height=\"209pt\" viewBox=\"0.00 0.00 290.80 208.60\" width=\"291pt\" xmlns=\"http://www.w3.org/2000/svg\" xmlns:xlink=\"http://www.w3.org/1999/xlink\">\n<g class=\"graph\" id=\"graph0\" transform=\"scale(1 1) rotate(0) translate(4 204.5982)\">\n<title>Arbol</title>\n<polygon fill=\"#ffffff\" points=\"-4,4 -4,-204.5982 286.8,-204.5982 286.8,4 -4,4\" stroke=\"transparent\"/>\n<!-- null0 -->\n<g class=\"node\" id=\"node1\">\n<title>null0</title>\n<polygon fill=\"none\" points=\"14,-143.6 0,-143.6 0,-129.6 14,-129.6 14,-143.6\" stroke=\"#000000\"/>\n</g>\n<!-- node3 -->\n<g class=\"node\" id=\"node2\">\n<title>node3</title>\n<ellipse cx=\"40.6\" cy=\"-179.8\" fill=\"none\" rx=\"20.5982\" ry=\"20.5982\" stroke=\"#000000\"/>\n<text fill=\"#000000\" font-family=\"Times,serif\" font-size=\"14.00\" text-anchor=\"middle\" x=\"40.6\" y=\"-176.1\">10</text>\n</g>\n<!-- node3&#45;&#45;null0 -->\n<g class=\"edge\" id=\"edge1\">\n<title>node3--null0</title>\n<path d=\"M27.7055,-163.2213C22.5236,-156.5589 16.817,-149.2218 12.7093,-143.9405\" fill=\"none\" stroke=\"#000000\"/>\n</g>\n<!-- node2 -->\n<g class=\"node\" id=\"node4\">\n<title>node2</title>\n<ellipse cx=\"107.8\" cy=\"-136.6\" fill=\"none\" rx=\"20.5982\" ry=\"20.5982\" stroke=\"#000000\"/>\n<text fill=\"#000000\" font-family=\"Times,serif\" font-size=\"14.00\" text-anchor=\"middle\" x=\"107.8\" y=\"-132.9\">12</text>\n</g>\n<!-- node3&#45;&#45;node2 -->\n<g class=\"edge\" id=\"edge2\">\n<title>node3--node2</title>\n<path d=\"M58.256,-168.4497C68.0556,-162.15 80.2106,-154.336 90.0286,-148.0245\" fill=\"none\" stroke=\"#000000\"/>\n</g>\n<!-- null1 -->\n<g class=\"node\" id=\"node3\">\n<title>null1</title>\n<polygon fill=\"none\" points=\"81.2,-100.4 67.2,-100.4 67.2,-86.4 81.2,-86.4 81.2,-100.4\" stroke=\"#000000\"/>\n</g>\n<!-- node2&#45;&#45;null1 -->\n<g class=\"edge\" id=\"edge3\">\n<title>node2--null1</title>\n<path d=\"M94.9055,-120.0213C89.7236,-113.3589 84.017,-106.0218 79.9093,-100.7405\" fill=\"none\" stroke=\"#000000\"/>\n</g>\n<!-- node1 -->\n<g class=\"node\" id=\"node6\">\n<title>node1</title>\n<ellipse cx=\"175\" cy=\"-93.4\" fill=\"none\" rx=\"20.5982\" ry=\"20.5982\" stroke=\"#000000\"/>\n<text fill=\"#000000\" font-family=\"Times,serif\" font-size=\"14.00\" text-anchor=\"middle\" x=\"175\" y=\"-89.7\">14</text>\n</g>\n<!-- node2&#45;&#45;node1 -->\n<g class=\"edge\" id=\"edge4\">\n<title>node2--node1</title>\n<path d=\"M125.456,-125.2497C135.2556,-118.95 147.4106,-111.136 157.2286,-104.8245\" fill=\"none\" stroke=\"#000000\"/>\n</g>\n<!-- null2 -->\n<g class=\"node\" id=\"node5\">\n<title>null2</title>\n<polygon fill=\"none\" points=\"148.4,-57.2 134.4,-57.2 134.4,-43.2 148.4,-43.2 148.4,-57.2\" stroke=\"#000000\"/>\n</g>\n<!-- node1&#45;&#45;null2 -->\n<g class=\"edge\" id=\"edge5\">\n<title>node1--null2</title>\n<path d=\"M162.1055,-76.8213C156.9236,-70.1589 151.217,-62.8218 147.1093,-57.5405\" fill=\"none\" stroke=\"#000000\"/>\n</g>\n<!-- node0 -->\n<g class=\"node\" id=\"node8\">\n<title>node0</title>\n<ellipse cx=\"242.2\" cy=\"-50.2\" fill=\"none\" rx=\"20.5982\" ry=\"20.5982\" stroke=\"#000000\"/>\n<text fill=\"#000000\" font-family=\"Times,serif\" font-size=\"14.00\" text-anchor=\"middle\" x=\"242.2\" y=\"-46.5\">20</text>\n</g>\n<!-- node1&#45;&#45;node0 -->\n<g class=\"edge\" id=\"edge6\">\n<title>node1--node0</title>\n<path d=\"M192.656,-82.0497C202.4556,-75.75 214.6106,-67.936 224.4286,-61.6245\" fill=\"none\" stroke=\"#000000\"/>\n</g>\n<!-- null3 -->\n<g class=\"node\" id=\"node7\">\n<title>null3</title>\n<polygon fill=\"none\" points=\"215.6,-14 201.6,-14 201.6,0 215.6,0 215.6,-14\" stroke=\"#000000\"/>\n</g>\n<!-- node0&#45;&#45;null3 -->\n<g class=\"edge\" id=\"edge7\">\n<title>node0--null3</title>\n<path d=\"M229.3055,-33.6213C224.1236,-26.9589 218.417,-19.6218 214.3093,-14.3405\" fill=\"none\" stroke=\"#000000\"/>\n</g>\n<!-- null4 -->\n<g class=\"node\" id=\"node9\">\n<title>null4</title>\n<polygon fill=\"none\" points=\"282.8,-14 268.8,-14 268.8,0 282.8,0 282.8,-14\" stroke=\"#000000\"/>\n</g>\n<!-- node0&#45;&#45;null4 -->\n<g class=\"edge\" id=\"edge8\">\n<title>node0--null4</title>\n<path d=\"M255.0945,-33.6213C260.2764,-26.9589 265.983,-19.6218 270.0907,-14.3405\" fill=\"none\" stroke=\"#000000\"/>\n</g>\n</g>\n</svg>"
          },
          "metadata": {
            "tags": []
          }
        }
      ]
    },
    {
      "cell_type": "code",
      "metadata": {
        "colab": {
          "base_uri": "https://localhost:8080/",
          "height": 240
        },
        "id": "esPA9n3hvaAg",
        "outputId": "e33cfca4-fc31-49e8-9f3c-1aaa3f44ca82"
      },
      "source": [
        "btd.draw_tree(AX3, \"raiz\")"
      ],
      "execution_count": 32,
      "outputs": [
        {
          "output_type": "display_data",
          "data": {
            "text/plain": [
              "<IPython.core.display.SVG object>"
            ],
            "image/svg+xml": "<svg height=\"165pt\" viewBox=\"0.00 0.00 290.80 165.40\" width=\"291pt\" xmlns=\"http://www.w3.org/2000/svg\" xmlns:xlink=\"http://www.w3.org/1999/xlink\">\n<g class=\"graph\" id=\"graph0\" transform=\"scale(1 1) rotate(0) translate(4 161.3982)\">\n<title>Arbol</title>\n<polygon fill=\"#ffffff\" points=\"-4,4 -4,-161.3982 286.8,-161.3982 286.8,4 -4,4\" stroke=\"transparent\"/>\n<!-- null0 -->\n<g class=\"node\" id=\"node1\">\n<title>null0</title>\n<polygon fill=\"none\" points=\"14,-14 0,-14 0,0 14,0 14,-14\" stroke=\"#000000\"/>\n</g>\n<!-- node0 -->\n<g class=\"node\" id=\"node2\">\n<title>node0</title>\n<ellipse cx=\"40.6\" cy=\"-50.2\" fill=\"none\" rx=\"18\" ry=\"18\" stroke=\"#000000\"/>\n<text fill=\"#000000\" font-family=\"Times,serif\" font-size=\"14.00\" text-anchor=\"middle\" x=\"40.6\" y=\"-46.5\">5</text>\n</g>\n<!-- node0&#45;&#45;null0 -->\n<g class=\"edge\" id=\"edge3\">\n<title>node0--null0</title>\n<path d=\"M29.2246,-35.5745C23.5892,-28.329 17.0417,-19.9107 12.5201,-14.0973\" fill=\"none\" stroke=\"#000000\"/>\n</g>\n<!-- null1 -->\n<g class=\"node\" id=\"node3\">\n<title>null1</title>\n<polygon fill=\"none\" points=\"81.2,-14 67.2,-14 67.2,0 81.2,0 81.2,-14\" stroke=\"#000000\"/>\n</g>\n<!-- node0&#45;&#45;null1 -->\n<g class=\"edge\" id=\"edge4\">\n<title>node0--null1</title>\n<path d=\"M51.9754,-35.5745C57.6108,-28.329 64.1583,-19.9107 68.6799,-14.0973\" fill=\"none\" stroke=\"#000000\"/>\n</g>\n<!-- node2 -->\n<g class=\"node\" id=\"node4\">\n<title>node2</title>\n<ellipse cx=\"107.8\" cy=\"-93.4\" fill=\"none\" rx=\"18\" ry=\"18\" stroke=\"#000000\"/>\n<text fill=\"#000000\" font-family=\"Times,serif\" font-size=\"14.00\" text-anchor=\"middle\" x=\"107.8\" y=\"-89.7\">7</text>\n</g>\n<!-- node2&#45;&#45;node0 -->\n<g class=\"edge\" id=\"edge2\">\n<title>node2--node0</title>\n<path d=\"M92.5513,-83.5973C81.5536,-76.5273 66.7722,-67.025 55.7884,-59.964\" fill=\"none\" stroke=\"#000000\"/>\n</g>\n<!-- node1 -->\n<g class=\"node\" id=\"node6\">\n<title>node1</title>\n<ellipse cx=\"175\" cy=\"-50.2\" fill=\"none\" rx=\"18\" ry=\"18\" stroke=\"#000000\"/>\n<text fill=\"#000000\" font-family=\"Times,serif\" font-size=\"14.00\" text-anchor=\"middle\" x=\"175\" y=\"-46.5\">9</text>\n</g>\n<!-- node2&#45;&#45;node1 -->\n<g class=\"edge\" id=\"edge5\">\n<title>node2--node1</title>\n<path d=\"M123.0487,-83.5973C134.0464,-76.5273 148.8278,-67.025 159.8116,-59.964\" fill=\"none\" stroke=\"#000000\"/>\n</g>\n<!-- null2 -->\n<g class=\"node\" id=\"node5\">\n<title>null2</title>\n<polygon fill=\"none\" points=\"148.4,-14 134.4,-14 134.4,0 148.4,0 148.4,-14\" stroke=\"#000000\"/>\n</g>\n<!-- node1&#45;&#45;null2 -->\n<g class=\"edge\" id=\"edge6\">\n<title>node1--null2</title>\n<path d=\"M163.6246,-35.5745C157.9892,-28.329 151.4417,-19.9107 146.9201,-14.0973\" fill=\"none\" stroke=\"#000000\"/>\n</g>\n<!-- null3 -->\n<g class=\"node\" id=\"node7\">\n<title>null3</title>\n<polygon fill=\"none\" points=\"215.6,-14 201.6,-14 201.6,0 215.6,0 215.6,-14\" stroke=\"#000000\"/>\n</g>\n<!-- node1&#45;&#45;null3 -->\n<g class=\"edge\" id=\"edge7\">\n<title>node1--null3</title>\n<path d=\"M186.3754,-35.5745C192.0108,-28.329 198.5583,-19.9107 203.0799,-14.0973\" fill=\"none\" stroke=\"#000000\"/>\n</g>\n<!-- node3 -->\n<g class=\"node\" id=\"node8\">\n<title>node3</title>\n<ellipse cx=\"242.2\" cy=\"-136.6\" fill=\"none\" rx=\"20.5982\" ry=\"20.5982\" stroke=\"#000000\"/>\n<text fill=\"#000000\" font-family=\"Times,serif\" font-size=\"14.00\" text-anchor=\"middle\" x=\"242.2\" y=\"-132.9\">10</text>\n</g>\n<!-- node3&#45;&#45;node2 -->\n<g class=\"edge\" id=\"edge1\">\n<title>node3--node2</title>\n<path d=\"M222.3688,-130.2257C196.0821,-121.7764 150.12,-107.0029 125.1468,-98.9758\" fill=\"none\" stroke=\"#000000\"/>\n</g>\n<!-- null4 -->\n<g class=\"node\" id=\"node9\">\n<title>null4</title>\n<polygon fill=\"none\" points=\"282.8,-100.4 268.8,-100.4 268.8,-86.4 282.8,-86.4 282.8,-100.4\" stroke=\"#000000\"/>\n</g>\n<!-- node3&#45;&#45;null4 -->\n<g class=\"edge\" id=\"edge8\">\n<title>node3--null4</title>\n<path d=\"M255.0945,-120.0213C260.2764,-113.3589 265.983,-106.0218 270.0907,-100.7405\" fill=\"none\" stroke=\"#000000\"/>\n</g>\n</g>\n</svg>"
          },
          "metadata": {
            "tags": []
          }
        }
      ]
    },
    {
      "cell_type": "markdown",
      "metadata": {
        "id": "RHFioeXEvlps"
      },
      "source": [
        "También podemos visualizar un árbol cuando los \"NULL\" han sido reemplazados por un objeto."
      ]
    },
    {
      "cell_type": "code",
      "metadata": {
        "id": "Nq4TSR8pvbVt"
      },
      "source": [
        "class Nodoi:\n",
        "  def __init__(self, izq, info, der):\n",
        "    self.izq=izq\n",
        "    self.info=info\n",
        "    self.der=der\n",
        "  def inorden(self):\n",
        "    self.izq.inorden()\n",
        "    print(self.info, end=\" \")\n",
        "    self.der.inorden()\n",
        "\n",
        "class Nodoe:\n",
        "  def __init__(self):\n",
        "    pass\n",
        "  def inorden(self):\n",
        "    pass\n",
        "\n",
        "class Arbol:\n",
        "  def __init__(self,raiz=Nodoe()):\n",
        "    self.raiz=raiz\n",
        "        \n",
        "  def inorden(self):\n",
        "    print(\"Inorden:\", end=\" \")\n",
        "    self.raiz.inorden()\n",
        "    print()"
      ],
      "execution_count": 33,
      "outputs": []
    },
    {
      "cell_type": "code",
      "metadata": {
        "colab": {
          "base_uri": "https://localhost:8080/"
        },
        "id": "lU4QpYWcwQqZ",
        "outputId": "cb6ebd23-0f31-4d09-8e8a-4fc019a88641"
      },
      "source": [
        "a=Arbol(\n",
        "    Nodoi(\n",
        "        Nodoi(\n",
        "            Nodoi(Nodoe(),15,Nodoe()),\n",
        "            20,\n",
        "            Nodoi(\n",
        "                Nodoi(Nodoe(),30,Nodoe()),\n",
        "                35,\n",
        "                Nodoe()\n",
        "            )\n",
        "        ),\n",
        "        42,\n",
        "        Nodoi(\n",
        "            Nodoi(\n",
        "                Nodoi(\n",
        "                    Nodoi(Nodoe(),65,Nodoe()),\n",
        "                    72,\n",
        "                    Nodoi(Nodoe(),81,Nodoe())\n",
        "                ),\n",
        "                90,\n",
        "                Nodoe()\n",
        "            ),\n",
        "            95,\n",
        "            Nodoe()\n",
        "        )\n",
        "       )\n",
        ")\n",
        "\n",
        "a.inorden()"
      ],
      "execution_count": 34,
      "outputs": [
        {
          "output_type": "stream",
          "text": [
            "Inorden: 15 20 30 35 42 65 72 81 90 95 \n"
          ],
          "name": "stdout"
        }
      ]
    },
    {
      "cell_type": "markdown",
      "metadata": {
        "id": "m6Rt8KwwwA-H"
      },
      "source": [
        "Para dibujar esta clase de árboles, sólo basta con informar al constructor de nuestra clase BinaryTreeDrawer, el nombre de la clase a la que pertenece el nodo que reemplaza a NULL."
      ]
    },
    {
      "cell_type": "code",
      "metadata": {
        "colab": {
          "base_uri": "https://localhost:8080/",
          "height": 316
        },
        "id": "AqloCRgEv959",
        "outputId": "4ac9ee75-1c7b-4ed2-8600-04af0e6ac933"
      },
      "source": [
        "btd = aed.BinaryTreeDrawer(fieldData=\"info\", fieldLeft=\"izq\", fieldRight=\"der\", classNone=Nodoe)\n",
        "btd.draw_tree(a, \"raiz\")"
      ],
      "execution_count": 36,
      "outputs": [
        {
          "output_type": "display_data",
          "data": {
            "text/plain": [
              "<IPython.core.display.SVG object>"
            ],
            "image/svg+xml": "<svg height=\"222pt\" viewBox=\"0.00 0.00 385.60 222.40\" width=\"386pt\" xmlns=\"http://www.w3.org/2000/svg\" xmlns:xlink=\"http://www.w3.org/1999/xlink\">\n<g class=\"graph\" id=\"graph0\" transform=\"scale(1 1) rotate(0) translate(4 218.3963)\">\n<title>Arbol</title>\n<polygon fill=\"#ffffff\" points=\"-4,4 -4,-218.3963 381.5963,-218.3963 381.5963,4 -4,4\" stroke=\"transparent\"/>\n<!-- node0 -->\n<g class=\"node\" id=\"node1\">\n<title>node0</title>\n<ellipse cx=\"20.7982\" cy=\"-107.1982\" fill=\"none\" rx=\"20.5982\" ry=\"20.5982\" stroke=\"#000000\"/>\n<text fill=\"#000000\" font-family=\"Times,serif\" font-size=\"14.00\" text-anchor=\"middle\" x=\"20.7982\" y=\"-103.4982\">15</text>\n</g>\n<!-- node3 -->\n<g class=\"node\" id=\"node2\">\n<title>node3</title>\n<ellipse cx=\"54.3982\" cy=\"-150.3982\" fill=\"none\" rx=\"20.5982\" ry=\"20.5982\" stroke=\"#000000\"/>\n<text fill=\"#000000\" font-family=\"Times,serif\" font-size=\"14.00\" text-anchor=\"middle\" x=\"54.3982\" y=\"-146.6982\">20</text>\n</g>\n<!-- node3&#45;&#45;node0 -->\n<g class=\"edge\" id=\"edge2\">\n<title>node3--node0</title>\n<path d=\"M41.5036,-133.8195C38.9127,-130.4883 36.1906,-126.9884 33.6027,-123.6612\" fill=\"none\" stroke=\"#000000\"/>\n</g>\n<!-- node2 -->\n<g class=\"node\" id=\"node4\">\n<title>node2</title>\n<ellipse cx=\"121.5982\" cy=\"-107.1982\" fill=\"none\" rx=\"20.5982\" ry=\"20.5982\" stroke=\"#000000\"/>\n<text fill=\"#000000\" font-family=\"Times,serif\" font-size=\"14.00\" text-anchor=\"middle\" x=\"121.5982\" y=\"-103.4982\">35</text>\n</g>\n<!-- node3&#45;&#45;node2 -->\n<g class=\"edge\" id=\"edge3\">\n<title>node3--node2</title>\n<path d=\"M72.0542,-139.0479C81.8537,-132.7482 94.0088,-124.9342 103.8267,-118.6226\" fill=\"none\" stroke=\"#000000\"/>\n</g>\n<!-- node1 -->\n<g class=\"node\" id=\"node3\">\n<title>node1</title>\n<ellipse cx=\"87.9982\" cy=\"-63.9982\" fill=\"none\" rx=\"20.5982\" ry=\"20.5982\" stroke=\"#000000\"/>\n<text fill=\"#000000\" font-family=\"Times,serif\" font-size=\"14.00\" text-anchor=\"middle\" x=\"87.9982\" y=\"-60.2982\">30</text>\n</g>\n<!-- node2&#45;&#45;node1 -->\n<g class=\"edge\" id=\"edge4\">\n<title>node2--node1</title>\n<path d=\"M108.7036,-90.6195C106.1127,-87.2883 103.3906,-83.7884 100.8027,-80.4612\" fill=\"none\" stroke=\"#000000\"/>\n</g>\n<!-- node9 -->\n<g class=\"node\" id=\"node5\">\n<title>node9</title>\n<ellipse cx=\"171.9982\" cy=\"-193.5982\" fill=\"none\" rx=\"20.5982\" ry=\"20.5982\" stroke=\"#000000\"/>\n<text fill=\"#000000\" font-family=\"Times,serif\" font-size=\"14.00\" text-anchor=\"middle\" x=\"171.9982\" y=\"-189.8982\">42</text>\n</g>\n<!-- node9&#45;&#45;node3 -->\n<g class=\"edge\" id=\"edge1\">\n<title>node9--node3</title>\n<path d=\"M152.3146,-186.3675C130.6063,-178.393 95.8799,-165.6363 74.146,-157.6525\" fill=\"none\" stroke=\"#000000\"/>\n</g>\n<!-- node8 -->\n<g class=\"node\" id=\"node10\">\n<title>node8</title>\n<ellipse cx=\"356.7982\" cy=\"-150.3982\" fill=\"none\" rx=\"20.5982\" ry=\"20.5982\" stroke=\"#000000\"/>\n<text fill=\"#000000\" font-family=\"Times,serif\" font-size=\"14.00\" text-anchor=\"middle\" x=\"356.7982\" y=\"-146.6982\">95</text>\n</g>\n<!-- node9&#45;&#45;node8 -->\n<g class=\"edge\" id=\"edge5\">\n<title>node9--node8</title>\n<path d=\"M192.4811,-188.8099C228.0974,-180.484 301.0219,-163.4368 336.5052,-155.142\" fill=\"none\" stroke=\"#000000\"/>\n</g>\n<!-- node4 -->\n<g class=\"node\" id=\"node6\">\n<title>node4</title>\n<ellipse cx=\"205.5982\" cy=\"-20.7982\" fill=\"none\" rx=\"20.5982\" ry=\"20.5982\" stroke=\"#000000\"/>\n<text fill=\"#000000\" font-family=\"Times,serif\" font-size=\"14.00\" text-anchor=\"middle\" x=\"205.5982\" y=\"-17.0982\">65</text>\n</g>\n<!-- node6 -->\n<g class=\"node\" id=\"node7\">\n<title>node6</title>\n<ellipse cx=\"239.1982\" cy=\"-63.9982\" fill=\"none\" rx=\"20.5982\" ry=\"20.5982\" stroke=\"#000000\"/>\n<text fill=\"#000000\" font-family=\"Times,serif\" font-size=\"14.00\" text-anchor=\"middle\" x=\"239.1982\" y=\"-60.2982\">72</text>\n</g>\n<!-- node6&#45;&#45;node4 -->\n<g class=\"edge\" id=\"edge8\">\n<title>node6--node4</title>\n<path d=\"M226.3036,-47.4195C223.7127,-44.0883 220.9906,-40.5884 218.4027,-37.2612\" fill=\"none\" stroke=\"#000000\"/>\n</g>\n<!-- node5 -->\n<g class=\"node\" id=\"node8\">\n<title>node5</title>\n<ellipse cx=\"272.7982\" cy=\"-20.7982\" fill=\"none\" rx=\"20.5982\" ry=\"20.5982\" stroke=\"#000000\"/>\n<text fill=\"#000000\" font-family=\"Times,serif\" font-size=\"14.00\" text-anchor=\"middle\" x=\"272.7982\" y=\"-17.0982\">81</text>\n</g>\n<!-- node6&#45;&#45;node5 -->\n<g class=\"edge\" id=\"edge9\">\n<title>node6--node5</title>\n<path d=\"M252.0927,-47.4195C254.6836,-44.0883 257.4057,-40.5884 259.9936,-37.2612\" fill=\"none\" stroke=\"#000000\"/>\n</g>\n<!-- node7 -->\n<g class=\"node\" id=\"node9\">\n<title>node7</title>\n<ellipse cx=\"306.3982\" cy=\"-107.1982\" fill=\"none\" rx=\"20.5982\" ry=\"20.5982\" stroke=\"#000000\"/>\n<text fill=\"#000000\" font-family=\"Times,serif\" font-size=\"14.00\" text-anchor=\"middle\" x=\"306.3982\" y=\"-103.4982\">90</text>\n</g>\n<!-- node7&#45;&#45;node6 -->\n<g class=\"edge\" id=\"edge7\">\n<title>node7--node6</title>\n<path d=\"M288.7421,-95.8479C278.9426,-89.5482 266.7875,-81.7342 256.9696,-75.4226\" fill=\"none\" stroke=\"#000000\"/>\n</g>\n<!-- node8&#45;&#45;node7 -->\n<g class=\"edge\" id=\"edge6\">\n<title>node8--node7</title>\n<path d=\"M340.8513,-136.7294C334.9681,-131.6867 328.3036,-125.9742 322.4143,-120.9263\" fill=\"none\" stroke=\"#000000\"/>\n</g>\n</g>\n</svg>"
          },
          "metadata": {
            "tags": []
          }
        }
      ]
    },
    {
      "cell_type": "markdown",
      "metadata": {
        "id": "Ra2ZN8efwi83"
      },
      "source": [
        "Tambien se pueden graficar los \"NULL\" de este tipo de árbol."
      ]
    },
    {
      "cell_type": "code",
      "metadata": {
        "colab": {
          "base_uri": "https://localhost:8080/",
          "height": 356
        },
        "id": "ZzVpwTKHwUrk",
        "outputId": "c8589afa-99e8-4497-f9b7-4f1ece3d3edb"
      },
      "source": [
        "btd = aed.BinaryTreeDrawer(fieldData=\"info\", fieldLeft=\"izq\", fieldRight=\"der\", classNone=Nodoe, drawNull=True)\n",
        "btd.draw_tree(a, \"raiz\")"
      ],
      "execution_count": 37,
      "outputs": [
        {
          "output_type": "display_data",
          "data": {
            "text/plain": [
              "<IPython.core.display.SVG object>"
            ],
            "image/svg+xml": "<svg height=\"252pt\" viewBox=\"0.00 0.00 694.00 251.80\" width=\"694pt\" xmlns=\"http://www.w3.org/2000/svg\" xmlns:xlink=\"http://www.w3.org/1999/xlink\">\n<g class=\"graph\" id=\"graph0\" transform=\"scale(1 1) rotate(0) translate(4 247.7982)\">\n<title>Arbol</title>\n<polygon fill=\"#ffffff\" points=\"-4,4 -4,-247.7982 690,-247.7982 690,4 -4,4\" stroke=\"transparent\"/>\n<!-- null0 -->\n<g class=\"node\" id=\"node1\">\n<title>null0</title>\n<polygon fill=\"none\" points=\"14,-100.4 0,-100.4 0,-86.4 14,-86.4 14,-100.4\" stroke=\"#000000\"/>\n</g>\n<!-- node0 -->\n<g class=\"node\" id=\"node2\">\n<title>node0</title>\n<ellipse cx=\"40.6\" cy=\"-136.6\" fill=\"none\" rx=\"20.5982\" ry=\"20.5982\" stroke=\"#000000\"/>\n<text fill=\"#000000\" font-family=\"Times,serif\" font-size=\"14.00\" text-anchor=\"middle\" x=\"40.6\" y=\"-132.9\">15</text>\n</g>\n<!-- node0&#45;&#45;null0 -->\n<g class=\"edge\" id=\"edge3\">\n<title>node0--null0</title>\n<path d=\"M27.7055,-120.0213C22.5236,-113.3589 16.817,-106.0218 12.7093,-100.7405\" fill=\"none\" stroke=\"#000000\"/>\n</g>\n<!-- null1 -->\n<g class=\"node\" id=\"node3\">\n<title>null1</title>\n<polygon fill=\"none\" points=\"81.2,-100.4 67.2,-100.4 67.2,-86.4 81.2,-86.4 81.2,-100.4\" stroke=\"#000000\"/>\n</g>\n<!-- node0&#45;&#45;null1 -->\n<g class=\"edge\" id=\"edge4\">\n<title>node0--null1</title>\n<path d=\"M53.4945,-120.0213C58.6764,-113.3589 64.383,-106.0218 68.4907,-100.7405\" fill=\"none\" stroke=\"#000000\"/>\n</g>\n<!-- node3 -->\n<g class=\"node\" id=\"node4\">\n<title>node3</title>\n<ellipse cx=\"107.8\" cy=\"-179.8\" fill=\"none\" rx=\"20.5982\" ry=\"20.5982\" stroke=\"#000000\"/>\n<text fill=\"#000000\" font-family=\"Times,serif\" font-size=\"14.00\" text-anchor=\"middle\" x=\"107.8\" y=\"-176.1\">20</text>\n</g>\n<!-- node3&#45;&#45;node0 -->\n<g class=\"edge\" id=\"edge2\">\n<title>node3--node0</title>\n<path d=\"M90.144,-168.4497C80.3444,-162.15 68.1894,-154.336 58.3714,-148.0245\" fill=\"none\" stroke=\"#000000\"/>\n</g>\n<!-- node2 -->\n<g class=\"node\" id=\"node8\">\n<title>node2</title>\n<ellipse cx=\"242.2\" cy=\"-136.6\" fill=\"none\" rx=\"20.5982\" ry=\"20.5982\" stroke=\"#000000\"/>\n<text fill=\"#000000\" font-family=\"Times,serif\" font-size=\"14.00\" text-anchor=\"middle\" x=\"242.2\" y=\"-132.9\">35</text>\n</g>\n<!-- node3&#45;&#45;node2 -->\n<g class=\"edge\" id=\"edge5\">\n<title>node3--node2</title>\n<path d=\"M127.6312,-173.4257C153.0417,-165.258 196.8377,-151.1807 222.2874,-143.0005\" fill=\"none\" stroke=\"#000000\"/>\n</g>\n<!-- null2 -->\n<g class=\"node\" id=\"node5\">\n<title>null2</title>\n<polygon fill=\"none\" points=\"148.4,-57.2 134.4,-57.2 134.4,-43.2 148.4,-43.2 148.4,-57.2\" stroke=\"#000000\"/>\n</g>\n<!-- node1 -->\n<g class=\"node\" id=\"node6\">\n<title>node1</title>\n<ellipse cx=\"175\" cy=\"-93.4\" fill=\"none\" rx=\"20.5982\" ry=\"20.5982\" stroke=\"#000000\"/>\n<text fill=\"#000000\" font-family=\"Times,serif\" font-size=\"14.00\" text-anchor=\"middle\" x=\"175\" y=\"-89.7\">30</text>\n</g>\n<!-- node1&#45;&#45;null2 -->\n<g class=\"edge\" id=\"edge7\">\n<title>node1--null2</title>\n<path d=\"M162.1054,-76.8213C156.9236,-70.1589 151.217,-62.8218 147.1093,-57.5405\" fill=\"none\" stroke=\"#000000\"/>\n</g>\n<!-- null3 -->\n<g class=\"node\" id=\"node7\">\n<title>null3</title>\n<polygon fill=\"none\" points=\"215.6,-57.2 201.6,-57.2 201.6,-43.2 215.6,-43.2 215.6,-57.2\" stroke=\"#000000\"/>\n</g>\n<!-- node1&#45;&#45;null3 -->\n<g class=\"edge\" id=\"edge8\">\n<title>node1--null3</title>\n<path d=\"M187.8945,-76.8213C193.0764,-70.1589 198.783,-62.8218 202.8907,-57.5405\" fill=\"none\" stroke=\"#000000\"/>\n</g>\n<!-- node2&#45;&#45;node1 -->\n<g class=\"edge\" id=\"edge6\">\n<title>node2--node1</title>\n<path d=\"M224.544,-125.2497C214.7444,-118.95 202.5894,-111.136 192.7714,-104.8245\" fill=\"none\" stroke=\"#000000\"/>\n</g>\n<!-- null4 -->\n<g class=\"node\" id=\"node9\">\n<title>null4</title>\n<polygon fill=\"none\" points=\"282.8,-100.4 268.8,-100.4 268.8,-86.4 282.8,-86.4 282.8,-100.4\" stroke=\"#000000\"/>\n</g>\n<!-- node2&#45;&#45;null4 -->\n<g class=\"edge\" id=\"edge9\">\n<title>node2--null4</title>\n<path d=\"M255.0945,-120.0213C260.2764,-113.3589 265.983,-106.0218 270.0907,-100.7405\" fill=\"none\" stroke=\"#000000\"/>\n</g>\n<!-- node9 -->\n<g class=\"node\" id=\"node10\">\n<title>node9</title>\n<ellipse cx=\"309.4\" cy=\"-223\" fill=\"none\" rx=\"20.5982\" ry=\"20.5982\" stroke=\"#000000\"/>\n<text fill=\"#000000\" font-family=\"Times,serif\" font-size=\"14.00\" text-anchor=\"middle\" x=\"309.4\" y=\"-219.3\">42</text>\n</g>\n<!-- node9&#45;&#45;node3 -->\n<g class=\"edge\" id=\"edge1\">\n<title>node9--node3</title>\n<path d=\"M288.9601,-218.62C250.3204,-210.3401 166.9753,-192.4804 128.294,-184.1916\" fill=\"none\" stroke=\"#000000\"/>\n</g>\n<!-- node8 -->\n<g class=\"node\" id=\"node20\">\n<title>node8</title>\n<ellipse cx=\"645.4\" cy=\"-179.8\" fill=\"none\" rx=\"20.5982\" ry=\"20.5982\" stroke=\"#000000\"/>\n<text fill=\"#000000\" font-family=\"Times,serif\" font-size=\"14.00\" text-anchor=\"middle\" x=\"645.4\" y=\"-176.1\">95</text>\n</g>\n<!-- node9&#45;&#45;node8 -->\n<g class=\"edge\" id=\"edge10\">\n<title>node9--node8</title>\n<path d=\"M330.1647,-220.3302C390.2572,-212.6041 563.8862,-190.2803 624.3439,-182.5072\" fill=\"none\" stroke=\"#000000\"/>\n</g>\n<!-- null5 -->\n<g class=\"node\" id=\"node11\">\n<title>null5</title>\n<polygon fill=\"none\" points=\"350,-14 336,-14 336,0 350,0 350,-14\" stroke=\"#000000\"/>\n</g>\n<!-- node4 -->\n<g class=\"node\" id=\"node12\">\n<title>node4</title>\n<ellipse cx=\"376.6\" cy=\"-50.2\" fill=\"none\" rx=\"20.5982\" ry=\"20.5982\" stroke=\"#000000\"/>\n<text fill=\"#000000\" font-family=\"Times,serif\" font-size=\"14.00\" text-anchor=\"middle\" x=\"376.6\" y=\"-46.5\">65</text>\n</g>\n<!-- node4&#45;&#45;null5 -->\n<g class=\"edge\" id=\"edge14\">\n<title>node4--null5</title>\n<path d=\"M363.7054,-33.6213C358.5236,-26.9589 352.817,-19.6218 348.7093,-14.3405\" fill=\"none\" stroke=\"#000000\"/>\n</g>\n<!-- null6 -->\n<g class=\"node\" id=\"node13\">\n<title>null6</title>\n<polygon fill=\"none\" points=\"417.2,-14 403.2,-14 403.2,0 417.2,0 417.2,-14\" stroke=\"#000000\"/>\n</g>\n<!-- node4&#45;&#45;null6 -->\n<g class=\"edge\" id=\"edge15\">\n<title>node4--null6</title>\n<path d=\"M389.4945,-33.6213C394.6764,-26.9589 400.383,-19.6218 404.4907,-14.3405\" fill=\"none\" stroke=\"#000000\"/>\n</g>\n<!-- node6 -->\n<g class=\"node\" id=\"node14\">\n<title>node6</title>\n<ellipse cx=\"443.8\" cy=\"-93.4\" fill=\"none\" rx=\"20.5982\" ry=\"20.5982\" stroke=\"#000000\"/>\n<text fill=\"#000000\" font-family=\"Times,serif\" font-size=\"14.00\" text-anchor=\"middle\" x=\"443.8\" y=\"-89.7\">72</text>\n</g>\n<!-- node6&#45;&#45;node4 -->\n<g class=\"edge\" id=\"edge13\">\n<title>node6--node4</title>\n<path d=\"M426.144,-82.0497C416.3444,-75.75 404.1893,-67.936 394.3714,-61.6245\" fill=\"none\" stroke=\"#000000\"/>\n</g>\n<!-- node5 -->\n<g class=\"node\" id=\"node16\">\n<title>node5</title>\n<ellipse cx=\"511\" cy=\"-50.2\" fill=\"none\" rx=\"20.5982\" ry=\"20.5982\" stroke=\"#000000\"/>\n<text fill=\"#000000\" font-family=\"Times,serif\" font-size=\"14.00\" text-anchor=\"middle\" x=\"511\" y=\"-46.5\">81</text>\n</g>\n<!-- node6&#45;&#45;node5 -->\n<g class=\"edge\" id=\"edge16\">\n<title>node6--node5</title>\n<path d=\"M461.456,-82.0497C471.2555,-75.75 483.4106,-67.936 493.2286,-61.6245\" fill=\"none\" stroke=\"#000000\"/>\n</g>\n<!-- null7 -->\n<g class=\"node\" id=\"node15\">\n<title>null7</title>\n<polygon fill=\"none\" points=\"484.4,-14 470.4,-14 470.4,0 484.4,0 484.4,-14\" stroke=\"#000000\"/>\n</g>\n<!-- node5&#45;&#45;null7 -->\n<g class=\"edge\" id=\"edge17\">\n<title>node5--null7</title>\n<path d=\"M498.1054,-33.6213C492.9236,-26.9589 487.217,-19.6218 483.1093,-14.3405\" fill=\"none\" stroke=\"#000000\"/>\n</g>\n<!-- null8 -->\n<g class=\"node\" id=\"node17\">\n<title>null8</title>\n<polygon fill=\"none\" points=\"551.6,-14 537.6,-14 537.6,0 551.6,0 551.6,-14\" stroke=\"#000000\"/>\n</g>\n<!-- node5&#45;&#45;null8 -->\n<g class=\"edge\" id=\"edge18\">\n<title>node5--null8</title>\n<path d=\"M523.8945,-33.6213C529.0764,-26.9589 534.783,-19.6218 538.8907,-14.3405\" fill=\"none\" stroke=\"#000000\"/>\n</g>\n<!-- node7 -->\n<g class=\"node\" id=\"node18\">\n<title>node7</title>\n<ellipse cx=\"578.2\" cy=\"-136.6\" fill=\"none\" rx=\"20.5982\" ry=\"20.5982\" stroke=\"#000000\"/>\n<text fill=\"#000000\" font-family=\"Times,serif\" font-size=\"14.00\" text-anchor=\"middle\" x=\"578.2\" y=\"-132.9\">90</text>\n</g>\n<!-- node7&#45;&#45;node6 -->\n<g class=\"edge\" id=\"edge12\">\n<title>node7--node6</title>\n<path d=\"M558.3688,-130.2257C532.9583,-122.058 489.1622,-107.9807 463.7125,-99.8005\" fill=\"none\" stroke=\"#000000\"/>\n</g>\n<!-- null9 -->\n<g class=\"node\" id=\"node19\">\n<title>null9</title>\n<polygon fill=\"none\" points=\"618.8,-100.4 604.8,-100.4 604.8,-86.4 618.8,-86.4 618.8,-100.4\" stroke=\"#000000\"/>\n</g>\n<!-- node7&#45;&#45;null9 -->\n<g class=\"edge\" id=\"edge19\">\n<title>node7--null9</title>\n<path d=\"M591.0945,-120.0213C596.2764,-113.3589 601.983,-106.0218 606.0907,-100.7405\" fill=\"none\" stroke=\"#000000\"/>\n</g>\n<!-- node8&#45;&#45;node7 -->\n<g class=\"edge\" id=\"edge11\">\n<title>node8--node7</title>\n<path d=\"M627.744,-168.4497C617.9444,-162.15 605.7893,-154.336 595.9714,-148.0245\" fill=\"none\" stroke=\"#000000\"/>\n</g>\n<!-- null10 -->\n<g class=\"node\" id=\"node21\">\n<title>null10</title>\n<polygon fill=\"none\" points=\"686,-143.6 672,-143.6 672,-129.6 686,-129.6 686,-143.6\" stroke=\"#000000\"/>\n</g>\n<!-- node8&#45;&#45;null10 -->\n<g class=\"edge\" id=\"edge20\">\n<title>node8--null10</title>\n<path d=\"M658.2945,-163.2213C663.4764,-156.5589 669.183,-149.2218 673.2907,-143.9405\" fill=\"none\" stroke=\"#000000\"/>\n</g>\n</g>\n</svg>"
          },
          "metadata": {
            "tags": []
          }
        }
      ]
    },
    {
      "cell_type": "markdown",
      "metadata": {
        "id": "SF5qEaIRwxaA"
      },
      "source": [
        "Para el caso en el que los nodos hojas se definen de manera distinta que los nodos internos, nuestra clase también funciona."
      ]
    },
    {
      "cell_type": "code",
      "metadata": {
        "id": "FsZt0qi5whdN"
      },
      "source": [
        "class Nodoi:\n",
        "  def __init__(self, izq, info, der):\n",
        "    self.izq=izq\n",
        "    self.info=info\n",
        "    self.der=der\n",
        "  def postorden(self):\n",
        "    self.izq.postorden()   \n",
        "    self.der.postorden()\n",
        "    print(self.info, end=\" \")\n",
        "\n",
        "class Nodoe:\n",
        "  def __init__(self, info=\"\"):\n",
        "    self.info=info\n",
        "  def postorden(self):\n",
        "    print(self.info, end=\" \")\n",
        "\n",
        "class Arbol:\n",
        "  def __init__(self,raiz=Nodoe()):\n",
        "    self.raiz=raiz        \n",
        "    \n",
        "  def postorden(self):\n",
        "    print(\"Postorden:\", end=\" \")\n",
        "    self.raiz.postorden()\n",
        "    print()"
      ],
      "execution_count": 38,
      "outputs": []
    },
    {
      "cell_type": "code",
      "metadata": {
        "colab": {
          "base_uri": "https://localhost:8080/"
        },
        "id": "B-ZcIbN3xMrA",
        "outputId": "34ed260c-135b-41d0-fb20-5143bd7da5f2"
      },
      "source": [
        "formula= Arbol(\n",
        "            Nodoi(\n",
        "                Nodoi(Nodoe(\"a\"),\"+\",Nodoe(\"1\")),\n",
        "                \"*\",\n",
        "                Nodoi(\n",
        "                    Nodoe(\"2\"),\n",
        "                    \"-\",\n",
        "                    Nodoi(Nodoe(\"1\"),\"/\",Nodoe(\"b\"))\n",
        "                )\n",
        "            )\n",
        "        )\n",
        "\n",
        "formula.postorden()"
      ],
      "execution_count": 39,
      "outputs": [
        {
          "output_type": "stream",
          "text": [
            "Postorden: a 1 + 2 1 b / - * \n"
          ],
          "name": "stdout"
        }
      ]
    },
    {
      "cell_type": "code",
      "metadata": {
        "colab": {
          "base_uri": "https://localhost:8080/",
          "height": 252
        },
        "id": "kxXSHGmTxRha",
        "outputId": "4efd580f-4603-41c6-a36c-2cb11a0e802b"
      },
      "source": [
        "btd = aed.BinaryTreeDrawer(fieldData=\"info\", fieldLeft=\"izq\", fieldRight=\"der\", classNone=Nodoe)\n",
        "btd.draw_tree(formula, \"raiz\")"
      ],
      "execution_count": 41,
      "outputs": [
        {
          "output_type": "display_data",
          "data": {
            "text/plain": [
              "<IPython.core.display.SVG object>"
            ],
            "image/svg+xml": "<svg height=\"174pt\" viewBox=\"0.00 0.00 312.80 173.60\" width=\"313pt\" xmlns=\"http://www.w3.org/2000/svg\" xmlns:xlink=\"http://www.w3.org/1999/xlink\">\n<g class=\"graph\" id=\"graph0\" transform=\"scale(1 1) rotate(0) translate(4 169.6)\">\n<title>Arbol</title>\n<polygon fill=\"#ffffff\" points=\"-4,4 -4,-169.6 308.8,-169.6 308.8,4 -4,4\" stroke=\"transparent\"/>\n<!-- node0 -->\n<g class=\"node\" id=\"node1\">\n<title>node0</title>\n<ellipse cx=\"18\" cy=\"-61.2\" fill=\"none\" rx=\"18\" ry=\"18\" stroke=\"#000000\"/>\n<text fill=\"#000000\" font-family=\"Times,serif\" font-size=\"14.00\" text-anchor=\"middle\" x=\"18\" y=\"-57.5\">a</text>\n</g>\n<!-- node2 -->\n<g class=\"node\" id=\"node2\">\n<title>node2</title>\n<ellipse cx=\"51.6\" cy=\"-104.4\" fill=\"none\" rx=\"18\" ry=\"18\" stroke=\"#000000\"/>\n<text fill=\"#000000\" font-family=\"Times,serif\" font-size=\"14.00\" text-anchor=\"middle\" x=\"51.6\" y=\"-100.7\">+</text>\n</g>\n<!-- node2&#45;&#45;node0 -->\n<g class=\"edge\" id=\"edge2\">\n<title>node2--node0</title>\n<path d=\"M40.2246,-89.7745C36.6454,-85.1726 32.6982,-80.0977 29.1358,-75.5175\" fill=\"none\" stroke=\"#000000\"/>\n</g>\n<!-- node1 -->\n<g class=\"node\" id=\"node3\">\n<title>node1</title>\n<ellipse cx=\"85.2\" cy=\"-61.2\" fill=\"none\" rx=\"18\" ry=\"18\" stroke=\"#000000\"/>\n<text fill=\"#000000\" font-family=\"Times,serif\" font-size=\"14.00\" text-anchor=\"middle\" x=\"85.2\" y=\"-57.5\">1</text>\n</g>\n<!-- node2&#45;&#45;node1 -->\n<g class=\"edge\" id=\"edge3\">\n<title>node2--node1</title>\n<path d=\"M62.9754,-89.7745C66.5546,-85.1726 70.5018,-80.0977 74.0642,-75.5175\" fill=\"none\" stroke=\"#000000\"/>\n</g>\n<!-- node8 -->\n<g class=\"node\" id=\"node4\">\n<title>node8</title>\n<ellipse cx=\"118.8\" cy=\"-147.6\" fill=\"none\" rx=\"18\" ry=\"18\" stroke=\"#000000\"/>\n<text fill=\"#000000\" font-family=\"Times,serif\" font-size=\"14.00\" text-anchor=\"middle\" x=\"118.8\" y=\"-143.9\">*</text>\n</g>\n<!-- node8&#45;&#45;node2 -->\n<g class=\"edge\" id=\"edge1\">\n<title>node8--node2</title>\n<path d=\"M103.5513,-137.7973C92.5536,-130.7273 77.7722,-121.225 66.7884,-114.164\" fill=\"none\" stroke=\"#000000\"/>\n</g>\n<!-- node7 -->\n<g class=\"node\" id=\"node6\">\n<title>node7</title>\n<ellipse cx=\"186\" cy=\"-104.4\" fill=\"none\" rx=\"18\" ry=\"18\" stroke=\"#000000\"/>\n<text fill=\"#000000\" font-family=\"Times,serif\" font-size=\"14.00\" text-anchor=\"middle\" x=\"186\" y=\"-100.7\">-</text>\n</g>\n<!-- node8&#45;&#45;node7 -->\n<g class=\"edge\" id=\"edge4\">\n<title>node8--node7</title>\n<path d=\"M134.0487,-137.7973C145.0464,-130.7273 159.8278,-121.225 170.8116,-114.164\" fill=\"none\" stroke=\"#000000\"/>\n</g>\n<!-- node3 -->\n<g class=\"node\" id=\"node5\">\n<title>node3</title>\n<ellipse cx=\"152.4\" cy=\"-61.2\" fill=\"none\" rx=\"18\" ry=\"18\" stroke=\"#000000\"/>\n<text fill=\"#000000\" font-family=\"Times,serif\" font-size=\"14.00\" text-anchor=\"middle\" x=\"152.4\" y=\"-57.5\">2</text>\n</g>\n<!-- node7&#45;&#45;node3 -->\n<g class=\"edge\" id=\"edge5\">\n<title>node7--node3</title>\n<path d=\"M174.6246,-89.7745C171.0454,-85.1726 167.0982,-80.0977 163.5358,-75.5175\" fill=\"none\" stroke=\"#000000\"/>\n</g>\n<!-- node6 -->\n<g class=\"node\" id=\"node8\">\n<title>node6</title>\n<ellipse cx=\"253.2\" cy=\"-61.2\" fill=\"none\" rx=\"18\" ry=\"18\" stroke=\"#000000\"/>\n<text fill=\"#000000\" font-family=\"Times,serif\" font-size=\"14.00\" text-anchor=\"middle\" x=\"253.2\" y=\"-57.5\">/</text>\n</g>\n<!-- node7&#45;&#45;node6 -->\n<g class=\"edge\" id=\"edge6\">\n<title>node7--node6</title>\n<path d=\"M201.2487,-94.5973C212.2464,-87.5273 227.0278,-78.025 238.0116,-70.964\" fill=\"none\" stroke=\"#000000\"/>\n</g>\n<!-- node4 -->\n<g class=\"node\" id=\"node7\">\n<title>node4</title>\n<ellipse cx=\"219.6\" cy=\"-18\" fill=\"none\" rx=\"18\" ry=\"18\" stroke=\"#000000\"/>\n<text fill=\"#000000\" font-family=\"Times,serif\" font-size=\"14.00\" text-anchor=\"middle\" x=\"219.6\" y=\"-14.3\">1</text>\n</g>\n<!-- node6&#45;&#45;node4 -->\n<g class=\"edge\" id=\"edge7\">\n<title>node6--node4</title>\n<path d=\"M241.8246,-46.5745C238.2454,-41.9726 234.2982,-36.8977 230.7358,-32.3175\" fill=\"none\" stroke=\"#000000\"/>\n</g>\n<!-- node5 -->\n<g class=\"node\" id=\"node9\">\n<title>node5</title>\n<ellipse cx=\"286.8\" cy=\"-18\" fill=\"none\" rx=\"18\" ry=\"18\" stroke=\"#000000\"/>\n<text fill=\"#000000\" font-family=\"Times,serif\" font-size=\"14.00\" text-anchor=\"middle\" x=\"286.8\" y=\"-14.3\">b</text>\n</g>\n<!-- node6&#45;&#45;node5 -->\n<g class=\"edge\" id=\"edge8\">\n<title>node6--node5</title>\n<path d=\"M264.5754,-46.5745C268.1546,-41.9726 272.1018,-36.8977 275.6642,-32.3175\" fill=\"none\" stroke=\"#000000\"/>\n</g>\n</g>\n</svg>"
          },
          "metadata": {
            "tags": []
          }
        }
      ]
    },
    {
      "cell_type": "code",
      "metadata": {
        "id": "HrlMzMmaxXY6"
      },
      "source": [
        ""
      ],
      "execution_count": null,
      "outputs": []
    }
  ]
}